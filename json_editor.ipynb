{
 "cells": [
  {
   "cell_type": "code",
   "execution_count": 1,
   "id": "efc08c0f",
   "metadata": {
    "vscode": {
     "languageId": "plaintext"
    }
   },
   "outputs": [],
   "source": [
    "import requests\n",
    "import time\n",
    "import json\n",
    "import threading\n",
    "import queue\n",
    "import random\n",
    "import datetime\n",
    "import os\n",
    "import urllib3\n",
    "import pickle\n",
    "import re\n",
    "\n",
    "from urllib.error import URLError, HTTPError\n",
    "from bs4 import BeautifulSoup\n",
    "from lxml import etree\n",
    "from collections import defaultdict\n",
    "from pprint import pprint\n",
    "from config.assistant import *\n",
    "from config.site_config import *\n",
    "from tqdm import tqdm\n",
    "\n",
    "urllib3.disable_warnings(urllib3.exceptions.InsecureRequestWarning)\n",
    "\n",
    "request_headers = {\n",
    "    'User-Agent': ('Mozilla/5.0 (Windows NT 10.0; Win64; x64) AppleWebKit/537.36 '\n",
    "                   '(KHTML, like Gecko) Chrome/68.0.3440.75 Safari/537.36'),\n",
    "}"
   ]
  },
  {
   "cell_type": "code",
   "execution_count": 2,
   "id": "b375662e",
   "metadata": {},
   "outputs": [],
   "source": [
    "with open(filter_list_company_name_path) as f:\n",
    "    filter_list_company_name = f.read().splitlines()\n",
    "with open(filter_list_company_name_part_path) as f:\n",
    "    filter_list_company_name_part = f.read().splitlines()\n",
    "\n",
    "with open(filter_list_posting_region_path) as f:\n",
    "    filter_list_posting_region = f.read().splitlines()\n",
    "with open(filter_list_posting_name_part_path) as f:\n",
    "    filter_list_posting_name_part = f.read().splitlines()"
   ]
  },
  {
   "cell_type": "code",
   "execution_count": 3,
   "id": "1e896b87",
   "metadata": {},
   "outputs": [
    {
     "name": "stdout",
     "output_type": "stream",
     "text": [
      "5935\n"
     ]
    }
   ],
   "source": [
    "# JSON 파일 불러오기\n",
    "file_path = \"config/job_group.json\"\n",
    "with open(file_path, 'r') as file:\n",
    "    job_group = json.load(file)\n",
    "print(len(job_group))"
   ]
  },
  {
   "cell_type": "markdown",
   "id": "586a9215",
   "metadata": {},
   "source": [
    "### 회사명에 부분적으로 포함되는 단어 필터링"
   ]
  },
  {
   "cell_type": "code",
   "execution_count": 4,
   "id": "ba5614bf",
   "metadata": {},
   "outputs": [
    {
     "name": "stdout",
     "output_type": "stream",
     "text": [
      "학원 0\n",
      "스터디 0\n",
      "교육원 0\n",
      "교육센터 0\n",
      "평생교육원 0\n",
      "필라테스 0\n",
      "아카데미 0\n",
      "병원 0\n",
      "부동산 0\n",
      "중개 0\n",
      "건축사 0\n",
      "의원 0\n",
      "결혼 0\n",
      "출판 0\n",
      "손해사정 0\n",
      "축구 0\n",
      "스쿨 0\n",
      "학교 0\n",
      "산부인과 0\n",
      "주얼리 0\n",
      "부티크 0\n",
      "복지관 0\n",
      "스투디오 0\n",
      "에스씨에이게임 0\n",
      "렌트카 0\n",
      "스타트업 0\n",
      "의료센터 0\n",
      "웨딩 0\n",
      "에이치알 0\n",
      "테라로사 0\n",
      "성형외과 0\n",
      "변호사 0\n"
     ]
    }
   ],
   "source": [
    "# company_filtering_list_5 = ['온라인']\n",
    "\n",
    "for filtering_word in filter_list_company_name_part:\n",
    "    nCnt = 0\n",
    "\n",
    "    for company_idx, company_title in enumerate(job_group):\n",
    "        for job_list in job_group[company_title]:\n",
    "            if filtering_word in job_list['company']:\n",
    "#                 print(job_list['company'])\n",
    "                if job_list['status'] == 'wait':\n",
    "                    job_list['status'] = 'close'\n",
    "                    nCnt += 1\n",
    "\n",
    "    print(filtering_word, nCnt)"
   ]
  },
  {
   "cell_type": "markdown",
   "id": "bce787b5",
   "metadata": {},
   "source": [
    "### 공고명에 부분적으로 포함되는 단어 필터링"
   ]
  },
  {
   "cell_type": "code",
   "execution_count": 5,
   "id": "bcdf2351",
   "metadata": {
    "scrolled": false
   },
   "outputs": [
    {
     "name": "stdout",
     "output_type": "stream",
     "text": [
      "영업관리 0\n",
      "매장관리 0\n",
      "고객 0\n",
      "사무보조 0\n",
      "마케팅 0\n",
      "마케터 0\n",
      "경영지원 0\n",
      "NodeJs 0\n",
      "Nestjs 0\n",
      "부동산 0\n",
      "영업사원 0\n",
      "자재관리 0\n",
      "회계 0\n",
      "재무 0\n",
      "총무 0\n",
      "영상의학실 0\n",
      "유지보수 0\n",
      "고객응대 0\n",
      "텔레마케터 0\n",
      "아웃바운드 0\n",
      "국비지원 0\n",
      "화장품 0\n",
      "디자이너 0\n",
      "인플루언서 0\n",
      "MD 0\n",
      "AMD 0\n",
      "온라인 0\n",
      "네일리스트 0\n",
      "웹디자인 0\n",
      "기술영업 0\n",
      "프론트엔드 0\n",
      "회로설계 0\n",
      "백엔드 0\n",
      "강사 0\n",
      "경리 0\n",
      "사무행정 0\n",
      "보험설계사 0\n",
      "유튜브 0\n",
      "유투브 0\n",
      "국비무료 0\n",
      "국비지원 0\n",
      "수행기사 0\n",
      "행정보조 0\n",
      "구축사업 0\n",
      "골프장 0\n",
      "영업지원 0\n",
      "Node.js 0\n",
      "node.js 0\n",
      "방송장비 0\n",
      "물류팀 0\n",
      "물류관리 0\n",
      "창고관리 0\n",
      "정보보안 0\n",
      "품질경영 0\n",
      "코스메틱 0\n",
      "자동차튜닝 0\n",
      "시각디자인 0\n",
      "악세사리 0\n",
      "업무제휴 0\n",
      "무료 0\n",
      "영상제작 0\n",
      "생산관리 0\n",
      "인사팀장 0\n",
      "자동차영업 0\n",
      "생산팀 0\n",
      "창업센터 0\n",
      "가맹점 0\n"
     ]
    }
   ],
   "source": [
    "for filtering_word in filter_list_posting_name_part:\n",
    "    nCnt = 0\n",
    "\n",
    "    for company_idx, company_title in enumerate(job_group):\n",
    "        for job_list in job_group[company_title]:\n",
    "            if filtering_word in job_list['title']:\n",
    "#                 print(job_list['title'])\n",
    "                if job_list['status'] == 'wait':\n",
    "                    job_list['status'] = 'close'\n",
    "                    nCnt += 1\n",
    "\n",
    "    print(filtering_word, nCnt)"
   ]
  },
  {
   "cell_type": "code",
   "execution_count": 6,
   "id": "048a3f08",
   "metadata": {},
   "outputs": [],
   "source": [
    "# JSON 파일 쓰기\n",
    "tf = open(file_path, 'w')\n",
    "json.dump(job_group, tf)\n",
    "tf.close()"
   ]
  },
  {
   "cell_type": "code",
   "execution_count": null,
   "id": "a6626a2d",
   "metadata": {},
   "outputs": [],
   "source": []
  }
 ],
 "metadata": {
  "kernelspec": {
   "display_name": "hackerrank",
   "language": "python",
   "name": "hackerrank"
  },
  "language_info": {
   "codemirror_mode": {
    "name": "ipython",
    "version": 3
   },
   "file_extension": ".py",
   "mimetype": "text/x-python",
   "name": "python",
   "nbconvert_exporter": "python",
   "pygments_lexer": "ipython3",
   "version": "3.9.12"
  }
 },
 "nbformat": 4,
 "nbformat_minor": 5
}
