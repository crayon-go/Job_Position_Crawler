{
 "cells": [
  {
   "cell_type": "code",
   "execution_count": 1,
   "id": "efc08c0f",
   "metadata": {
    "vscode": {
     "languageId": "plaintext"
    }
   },
   "outputs": [],
   "source": [
    "import requests\n",
    "import time\n",
    "import json\n",
    "import threading\n",
    "import queue\n",
    "import random\n",
    "import datetime\n",
    "import os\n",
    "import urllib3\n",
    "import pickle\n",
    "import re\n",
    "\n",
    "from urllib.error import URLError, HTTPError\n",
    "from bs4 import BeautifulSoup\n",
    "from lxml import etree\n",
    "from collections import defaultdict\n",
    "from pprint import pprint\n",
    "from config.assistant import *\n",
    "from config.site_config import *\n",
    "from tqdm import tqdm\n",
    "\n",
    "urllib3.disable_warnings(urllib3.exceptions.InsecureRequestWarning)\n",
    "\n",
    "request_headers = {\n",
    "    'User-Agent': ('Mozilla/5.0 (Windows NT 10.0; Win64; x64) AppleWebKit/537.36 '\n",
    "                   '(KHTML, like Gecko) Chrome/68.0.3440.75 Safari/537.36'),\n",
    "}"
   ]
  },
  {
   "cell_type": "code",
   "execution_count": 2,
   "id": "c41ddcf1",
   "metadata": {},
   "outputs": [],
   "source": [
    "with open(filter_list_company_name_path) as f:\n",
    "    filter_list_company_name = f.read().splitlines()\n",
    "with open(filter_list_company_name_part_path) as f:\n",
    "    filter_list_company_name_part = f.read().splitlines()\n",
    "\n",
    "with open(filter_list_posting_region_path) as f:\n",
    "    filter_list_posting_region = f.read().splitlines()\n",
    "with open(filter_list_posting_name_part_path) as f:\n",
    "    filter_list_posting_name_part = f.read().splitlines()"
   ]
  },
  {
   "cell_type": "code",
   "execution_count": 3,
   "id": "1e896b87",
   "metadata": {},
   "outputs": [
    {
     "name": "stdout",
     "output_type": "stream",
     "text": [
      "4871\n"
     ]
    }
   ],
   "source": [
    "# JSON 파일 불러오기\n",
    "file_path = \"config/job_group.json\"\n",
    "with open(file_path, 'r') as file:\n",
    "    job_group = json.load(file)\n",
    "print(len(job_group))"
   ]
  },
  {
   "cell_type": "markdown",
   "id": "586a9215",
   "metadata": {},
   "source": [
    "### 1. 필터링 - 회사명에 부분적으로 포함되는 단어"
   ]
  },
  {
   "cell_type": "code",
   "execution_count": 4,
   "id": "ba5614bf",
   "metadata": {
    "scrolled": true
   },
   "outputs": [
    {
     "name": "stdout",
     "output_type": "stream",
     "text": [
      "학원 0\n",
      "스터디 0\n",
      "교육원 0\n",
      "교육센터 0\n",
      "평생교육원 0\n",
      "필라테스 0\n",
      "아카데미 0\n",
      "병원 0\n",
      "부동산 0\n",
      "중개 0\n",
      "건축사 0\n",
      "의원 0\n",
      "결혼 0\n",
      "출판 0\n",
      "손해사정 0\n",
      "축구 0\n",
      "스쿨 0\n",
      "학교 0\n",
      "산부인과 0\n",
      "주얼리 0\n",
      "부티크 0\n",
      "복지관 0\n",
      "스투디오 0\n",
      "에스씨에이게임 0\n",
      "렌트카 0\n",
      "스타트업 0\n",
      "의료센터 0\n",
      "웨딩 0\n",
      "에이치알 0\n",
      "테라로사 0\n",
      "성형외과 0\n",
      "변호사 0\n",
      "화장품 0\n",
      "대한상공회의소 0\n",
      "안과 0\n",
      "복지재단 0\n",
      "투어 0\n",
      "체형교정 0\n",
      "사단법인 0\n",
      "투자자문 0\n",
      "노무법인 0\n",
      "수영장 0\n",
      "자산운용 0\n",
      "폴리텍 0\n",
      "울산 0\n",
      "특허법인 0\n",
      "위너TFK 0\n",
      "에듀플렉스 0\n",
      "법률사무소 0\n",
      "천안 0\n",
      "충북 0\n",
      "법무법인 0\n",
      "도시락 0\n",
      "리조트 0\n",
      "요양원 0\n",
      "산후조리원 0\n",
      "사회복지 0\n",
      "청소년 0\n",
      "인재개발원 0\n",
      "컨벤션 0\n",
      "인베스트먼트 0\n",
      "교육개발원 0\n",
      "장애인 0\n",
      "사무소 0\n"
     ]
    }
   ],
   "source": [
    "for filtering_word in filter_list_company_name_part:\n",
    "    nCnt = 0\n",
    "\n",
    "    for company_idx, company_title in enumerate(job_group):\n",
    "        for job_list in job_group[company_title]:\n",
    "            if filtering_word in job_list['company']:\n",
    "                if job_list['status'] == 'wait':\n",
    "                    job_list['status'] = 'close'\n",
    "                    nCnt += 1\n",
    "\n",
    "    print(filtering_word, nCnt)"
   ]
  },
  {
   "cell_type": "markdown",
   "id": "bce787b5",
   "metadata": {},
   "source": [
    "### 2. 필터링 - 공고명에 부분적으로 포함되는 단어"
   ]
  },
  {
   "cell_type": "code",
   "execution_count": 5,
   "id": "bcdf2351",
   "metadata": {
    "scrolled": true
   },
   "outputs": [
    {
     "name": "stdout",
     "output_type": "stream",
     "text": [
      "영업관리 0\n",
      "매장관리 0\n",
      "고객 0\n",
      "사무보조 0\n",
      "마케팅 0\n",
      "마케터 0\n",
      "경영지원 0\n",
      "NodeJs 0\n",
      "Nestjs 0\n",
      "부동산 0\n",
      "영업사원 0\n",
      "자재관리 0\n",
      "회계 0\n",
      "재무 0\n",
      "총무 0\n",
      "영상의학실 0\n",
      "유지보수 0\n",
      "고객응대 0\n",
      "텔레마케터 0\n",
      "아웃바운드 0\n",
      "국비지원 0\n",
      "화장품 0\n",
      "디자이너 0\n",
      "인플루언서 0\n",
      "MD 0\n",
      "AMD 0\n",
      "온라인 0\n",
      "네일리스트 0\n",
      "웹디자인 0\n",
      "기술영업 0\n",
      "회로설계 0\n",
      "강사 0\n",
      "경리 0\n",
      "사무행정 0\n",
      "보험설계사 0\n",
      "유튜브 0\n",
      "유투브 0\n",
      "국비무료 0\n",
      "국비지원 0\n",
      "수행기사 0\n",
      "행정보조 0\n",
      "구축사업 0\n",
      "골프장 0\n",
      "영업지원 0\n",
      "Node.js 0\n",
      "node.js 0\n",
      "방송장비 0\n",
      "물류팀 0\n",
      "물류관리 0\n",
      "창고관리 0\n",
      "정보보안 0\n",
      "품질경영 0\n",
      "코스메틱 0\n",
      "자동차튜닝 0\n",
      "시각디자인 0\n",
      "악세사리 0\n",
      "업무제휴 0\n",
      "무료 0\n",
      "영상제작 0\n",
      "생산관리 0\n",
      "인사팀장 0\n",
      "자동차영업 0\n",
      "생산팀 0\n",
      "창업센터 0\n",
      "가맹점 0\n",
      "웹퍼블리셔 0\n",
      "품질관리 0\n",
      "임원비서 0\n",
      "뷰티 0\n",
      "해외영업 0\n",
      "중국어 0\n",
      "새벽배송 0\n",
      "센터관리 0\n",
      "무역업무 0\n",
      "비서 0\n",
      "해외구매 0\n",
      "광고영업 0\n",
      "기획영업 0\n",
      "영업기획부 0\n",
      "유학 0\n",
      "세무법인 0\n",
      "세무회계 0\n",
      "광주 0\n",
      "법률사무소 0\n",
      "교육재단 0\n"
     ]
    }
   ],
   "source": [
    "for filtering_word in filter_list_posting_name_part:\n",
    "    nCnt = 0\n",
    "\n",
    "    for company_idx, company_title in enumerate(job_group):\n",
    "        for job_list in job_group[company_title]:\n",
    "            if filtering_word in job_list['title']:\n",
    "                if job_list['status'] == 'wait':\n",
    "                    job_list['status'] = 'close'\n",
    "                    nCnt += 1\n",
    "                    \n",
    "    print(filtering_word, nCnt)"
   ]
  },
  {
   "cell_type": "code",
   "execution_count": 5,
   "id": "048a3f08",
   "metadata": {},
   "outputs": [],
   "source": [
    "# JSON 파일 쓰기\n",
    "tf = open(file_path, 'w')\n",
    "json.dump(job_group, tf)\n",
    "tf.close()"
   ]
  },
  {
   "cell_type": "markdown",
   "id": "62fa0033",
   "metadata": {},
   "source": [
    "### 3. 전체현황 - 회사명에 부분적으로 단어 포함"
   ]
  },
  {
   "cell_type": "code",
   "execution_count": 4,
   "id": "8edcd5c4",
   "metadata": {
    "scrolled": true
   },
   "outputs": [
    {
     "name": "stdout",
     "output_type": "stream",
     "text": [
      "학원 177\n",
      "스터디 10\n",
      "교육원 18\n",
      "교육센터 7\n",
      "평생교육원 3\n",
      "필라테스 5\n",
      "아카데미 194\n",
      "병원 38\n",
      "부동산 36\n",
      "중개 45\n",
      "건축사 7\n",
      "의원 42\n",
      "결혼 12\n",
      "출판 8\n",
      "손해사정 5\n",
      "축구 2\n",
      "스쿨 16\n",
      "학교 64\n",
      "산부인과 2\n",
      "주얼리 5\n",
      "부티크 1\n",
      "복지관 2\n",
      "스투디오 1\n",
      "에스씨에이게임 34\n",
      "렌트카 1\n",
      "스타트업 4\n",
      "의료센터 3\n",
      "웨딩 6\n",
      "에이치알 65\n",
      "테라로사 7\n",
      "성형외과 18\n",
      "변호사 2\n"
     ]
    }
   ],
   "source": [
    "for filtering_word in filter_list_company_name_part:\n",
    "    nCnt = 0\n",
    "\n",
    "    for company_idx, company_title in enumerate(job_group):\n",
    "        for job_list in job_group[company_title]:\n",
    "            if filtering_word in job_list['company']:\n",
    "                    nCnt += 1\n",
    "\n",
    "    print(filtering_word, nCnt)"
   ]
  },
  {
   "cell_type": "markdown",
   "id": "91e008eb",
   "metadata": {},
   "source": [
    "### 4. 하나씩 확인 - 회사명에 부분적으로 단어 포함"
   ]
  },
  {
   "cell_type": "code",
   "execution_count": 6,
   "id": "f1deea53",
   "metadata": {},
   "outputs": [
    {
     "name": "stdout",
     "output_type": "stream",
     "text": [
      "변호사\n",
      "검출개수: 0\n",
      "중복제거: 0\n",
      "----------------------\n"
     ]
    }
   ],
   "source": [
    "filtering_word = \"변호사\"\n",
    "ans_list = []\n",
    "for company_idx, company_title in enumerate(job_group):\n",
    "    for job_list in job_group[company_title]:\n",
    "        if filtering_word in job_list['company']:\n",
    "            ans_list.append(company_title)\n",
    "print(filtering_word)\n",
    "print(\"검출개수: \" + str(len(ans_list)))\n",
    "ans_list = list(set(ans_list))\n",
    "print(\"중복제거: \" + str(len(ans_list)))\n",
    "print(\"----------------------\")\n",
    "for ans in ans_list:\n",
    "    print(ans)"
   ]
  },
  {
   "cell_type": "markdown",
   "id": "432b37d6",
   "metadata": {},
   "source": [
    "### 5. 전체현황 - 공고명에 부분적으로 단어 포함"
   ]
  },
  {
   "cell_type": "code",
   "execution_count": 7,
   "id": "adfa31a3",
   "metadata": {
    "scrolled": true
   },
   "outputs": [
    {
     "name": "stdout",
     "output_type": "stream",
     "text": [
      "영업관리 0\n",
      "매장관리 0\n",
      "고객 0\n",
      "사무보조 0\n",
      "마케팅 0\n",
      "마케터 0\n",
      "경영지원 0\n",
      "NodeJs 0\n",
      "Nestjs 0\n",
      "부동산 0\n",
      "영업사원 0\n",
      "자재관리 0\n",
      "회계 0\n",
      "재무 0\n",
      "총무 0\n",
      "영상의학실 0\n",
      "유지보수 0\n",
      "고객응대 0\n",
      "텔레마케터 0\n",
      "아웃바운드 0\n",
      "국비지원 0\n",
      "화장품 0\n",
      "디자이너 0\n",
      "인플루언서 0\n",
      "MD 0\n",
      "AMD 0\n",
      "온라인 0\n",
      "네일리스트 0\n",
      "웹디자인 0\n",
      "기술영업 0\n",
      "회로설계 0\n",
      "강사 0\n",
      "경리 0\n",
      "사무행정 0\n",
      "보험설계사 0\n",
      "유튜브 0\n",
      "유투브 0\n",
      "국비무료 0\n",
      "국비지원 0\n",
      "수행기사 0\n",
      "행정보조 0\n",
      "구축사업 0\n",
      "골프장 0\n",
      "영업지원 0\n",
      "Node.js 0\n",
      "node.js 0\n",
      "방송장비 0\n",
      "물류팀 0\n",
      "물류관리 0\n",
      "창고관리 0\n",
      "정보보안 0\n",
      "품질경영 0\n",
      "코스메틱 0\n",
      "자동차튜닝 0\n",
      "시각디자인 0\n",
      "악세사리 0\n",
      "업무제휴 0\n",
      "무료 0\n",
      "영상제작 0\n",
      "생산관리 0\n",
      "인사팀장 0\n",
      "자동차영업 0\n",
      "생산팀 0\n",
      "창업센터 0\n",
      "가맹점 0\n",
      "웹퍼블리셔 0\n",
      "품질관리 0\n",
      "임원비서 0\n",
      "뷰티 0\n",
      "해외영업 0\n",
      "중국어 0\n",
      "새벽배송 0\n",
      "센터관리 0\n",
      "무역업무 0\n",
      "비서 0\n",
      "해외구매 0\n",
      "광고영업 0\n",
      "기획영업 0\n",
      "영업기획부 0\n",
      "유학 0\n",
      "세무법인 0\n",
      "세무회계 0\n",
      "광주 0\n",
      "법률사무소 0\n",
      "교육재단 0\n"
     ]
    }
   ],
   "source": [
    "for filtering_word in filter_list_posting_name_part:\n",
    "    nCnt = 0\n",
    "\n",
    "    for company_idx, company_title in enumerate(job_group):\n",
    "        for job_list in job_group[company_title]:\n",
    "            if filtering_word in job_list['title']:\n",
    "                    nCnt += 1\n",
    "                    \n",
    "    print(filtering_word, nCnt)"
   ]
  },
  {
   "cell_type": "markdown",
   "id": "f585a8c2",
   "metadata": {},
   "source": [
    "### 6. 일정 기한 지난 공고 삭제"
   ]
  },
  {
   "cell_type": "code",
   "execution_count": 17,
   "id": "2e934cbf",
   "metadata": {},
   "outputs": [
    {
     "name": "stdout",
     "output_type": "stream",
     "text": [
      "회사 개수:  3105\n",
      "공고 개수:  6570\n",
      "--------------\n"
     ]
    }
   ],
   "source": [
    "import datetime\n",
    "import json\n",
    "\n",
    "# JSON 파일 불러오기\n",
    "file_path = \"config/job_group.json\"\n",
    "with open(file_path, 'r') as file:\n",
    "    job_group = json.load(file)\n",
    "print(\"회사 개수: \", len(job_group))\n",
    "\n",
    "nCnt = 0\n",
    "for i in job_group:\n",
    "    for j in job_group[i]:\n",
    "        nCnt += 1\n",
    "print(\"공고 개수: \", nCnt)\n",
    "print(\"--------------\")"
   ]
  },
  {
   "cell_type": "code",
   "execution_count": 18,
   "id": "77606a59",
   "metadata": {},
   "outputs": [
    {
     "name": "stdout",
     "output_type": "stream",
     "text": [
      "----------------\n",
      "0\n"
     ]
    }
   ],
   "source": [
    "gap_day = 60\n",
    "removed_cnt = 0\n",
    "\n",
    "for company_idx, company_title in enumerate(job_group):\n",
    "    n_cnt = 0\n",
    "    tmp_list = []\n",
    "\n",
    "    for job_list in job_group[company_title]:\n",
    "        input_date = job_list['input_date']\n",
    "        date_input = datetime.date(int(input_date[0:4]), int(input_date[5:7]), int(input_date[8:10]))\n",
    "\n",
    "        today = datetime.date.today().isoformat()\n",
    "        date_today = datetime.date(int(today[0:4]), int(today[5:7]), int(today[8:10]))\n",
    "        \n",
    "        if (date_today - date_input).days < gap_day:\n",
    "            tmp_list.append(job_list)\n",
    "            tmp_list[n_cnt]['title_idx'] = n_cnt\n",
    "            n_cnt += 1\n",
    "        else:\n",
    "            removed_cnt += 1\n",
    "            print(job_list['company'], job_list['title'])\n",
    "    job_group[company_title] = tmp_list\n",
    "\n",
    "# 공고가 없는 회사명 제거    \n",
    "del_temp = []\n",
    "for company_idx, company_title in enumerate(job_group):\n",
    "    if len(job_group[company_title]) == 0:\n",
    "        del_temp.append(company_title)\n",
    "for company in del_temp:\n",
    "    del(job_group[company])\n",
    "    \n",
    "print('----------------')\n",
    "print(removed_cnt)"
   ]
  },
  {
   "cell_type": "code",
   "execution_count": 3,
   "id": "e9c9e7e8",
   "metadata": {},
   "outputs": [],
   "source": [
    "# JSON 파일 쓰기\n",
    "tf = open(file_path, 'w')\n",
    "json.dump(job_group, tf)\n",
    "tf.close()"
   ]
  },
  {
   "cell_type": "markdown",
   "id": "9bfa6af0",
   "metadata": {},
   "source": [
    "### 크롤링했던 날짜 분포 확인"
   ]
  },
  {
   "cell_type": "code",
   "execution_count": 38,
   "id": "352f0062",
   "metadata": {},
   "outputs": [
    {
     "name": "stdout",
     "output_type": "stream",
     "text": [
      "회사 개수:  3735\n"
     ]
    }
   ],
   "source": [
    "import datetime\n",
    "import json\n",
    "from collections import defaultdict\n",
    "\n",
    "date_dict = defaultdict(int)\n",
    "\n",
    "# JSON 파일 불러오기\n",
    "file_path = \"config/job_group.json\"\n",
    "with open(file_path, 'r') as file:\n",
    "    job_group = json.load(file)\n",
    "print(\"회사 개수: \", len(job_group))\n",
    "\n",
    "nCnt = 0\n",
    "for i in job_group:\n",
    "    for j in job_group[i]:\n",
    "        nCnt += 1\n",
    "        date_dict[j['input_date']] += 1\n"
   ]
  },
  {
   "cell_type": "code",
   "execution_count": 46,
   "id": "38a57db2",
   "metadata": {},
   "outputs": [
    {
     "data": {
      "text/plain": [
       "[('2023-03-21', 294),\n",
       " ('2023-03-22', 195),\n",
       " ('2023-03-26', 290),\n",
       " ('2023-03-31', 1047),\n",
       " ('2023-04-03', 236),\n",
       " ('2023-04-05', 177),\n",
       " ('2023-04-06', 229),\n",
       " ('2023-04-08', 226),\n",
       " ('2023-04-09', 8),\n",
       " ('2023-04-10', 147),\n",
       " ('2023-04-11', 81),\n",
       " ('2023-04-14', 512),\n",
       " ('2023-04-18', 224),\n",
       " ('2023-04-19', 288),\n",
       " ('2023-04-23', 283),\n",
       " ('2023-04-24', 142),\n",
       " ('2023-04-25', 171),\n",
       " ('2023-04-27', 329),\n",
       " ('2023-04-29', 137),\n",
       " ('2023-04-30', 6),\n",
       " ('2023-05-01', 20),\n",
       " ('2023-05-02', 132),\n",
       " ('2023-05-04', 262),\n",
       " ('2023-05-05', 30),\n",
       " ('2023-05-07', 18),\n",
       " ('2023-05-08', 97),\n",
       " ('2023-05-10', 254),\n",
       " ('2023-05-11', 91),\n",
       " ('2023-05-12', 214),\n",
       " ('2023-05-13', 53),\n",
       " ('2023-05-14', 4),\n",
       " ('2023-05-15', 138),\n",
       " ('2023-05-16', 1984)]"
      ]
     },
     "execution_count": 46,
     "metadata": {},
     "output_type": "execute_result"
    }
   ],
   "source": [
    "sorted(date_dict.items())"
   ]
  },
  {
   "cell_type": "code",
   "execution_count": null,
   "id": "c23980c1",
   "metadata": {},
   "outputs": [],
   "source": []
  },
  {
   "cell_type": "code",
   "execution_count": null,
   "id": "665bc600",
   "metadata": {},
   "outputs": [],
   "source": []
  },
  {
   "cell_type": "code",
   "execution_count": null,
   "id": "d30ec34d",
   "metadata": {},
   "outputs": [],
   "source": []
  },
  {
   "cell_type": "code",
   "execution_count": null,
   "id": "bd9d1f2a",
   "metadata": {},
   "outputs": [],
   "source": []
  },
  {
   "cell_type": "code",
   "execution_count": null,
   "id": "c0300b54",
   "metadata": {},
   "outputs": [],
   "source": []
  },
  {
   "cell_type": "code",
   "execution_count": null,
   "id": "af227614",
   "metadata": {},
   "outputs": [],
   "source": []
  },
  {
   "cell_type": "code",
   "execution_count": null,
   "id": "b31e5edd",
   "metadata": {},
   "outputs": [],
   "source": []
  },
  {
   "cell_type": "code",
   "execution_count": null,
   "id": "4cb8168f",
   "metadata": {},
   "outputs": [],
   "source": []
  },
  {
   "cell_type": "code",
   "execution_count": null,
   "id": "ff9a90f8",
   "metadata": {},
   "outputs": [],
   "source": []
  },
  {
   "cell_type": "code",
   "execution_count": null,
   "id": "47e64bc4",
   "metadata": {},
   "outputs": [],
   "source": []
  },
  {
   "cell_type": "code",
   "execution_count": null,
   "id": "ba0fa72a",
   "metadata": {},
   "outputs": [],
   "source": []
  }
 ],
 "metadata": {
  "kernelspec": {
   "display_name": "hackerrank",
   "language": "python",
   "name": "hackerrank"
  },
  "language_info": {
   "codemirror_mode": {
    "name": "ipython",
    "version": 3
   },
   "file_extension": ".py",
   "mimetype": "text/x-python",
   "name": "python",
   "nbconvert_exporter": "python",
   "pygments_lexer": "ipython3",
   "version": "3.9.12"
  }
 },
 "nbformat": 4,
 "nbformat_minor": 5
}
