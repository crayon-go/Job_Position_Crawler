{
 "cells": [
  {
   "cell_type": "code",
   "execution_count": 3,
   "id": "efc08c0f",
   "metadata": {
    "vscode": {
     "languageId": "plaintext"
    }
   },
   "outputs": [],
   "source": [
    "import requests\n",
    "import time\n",
    "import json\n",
    "import threading\n",
    "import queue\n",
    "import random\n",
    "import datetime\n",
    "import os\n",
    "import urllib3\n",
    "import pickle\n",
    "import re\n",
    "\n",
    "from urllib.error import URLError, HTTPError\n",
    "from bs4 import BeautifulSoup\n",
    "from lxml import etree\n",
    "from collections import defaultdict\n",
    "from pprint import pprint\n",
    "from config.assistant import *\n",
    "from config.site_config import *\n",
    "from tqdm import tqdm\n",
    "\n",
    "urllib3.disable_warnings(urllib3.exceptions.InsecureRequestWarning)\n",
    "\n",
    "request_headers = {\n",
    "    'User-Agent': ('Mozilla/5.0 (Windows NT 10.0; Win64; x64) AppleWebKit/537.36 '\n",
    "                   '(KHTML, like Gecko) Chrome/68.0.3440.75 Safari/537.36'),\n",
    "}"
   ]
  },
  {
   "cell_type": "code",
   "execution_count": 2,
   "id": "07f7721a",
   "metadata": {},
   "outputs": [],
   "source": [
    "search_words = [\"컴퓨터비전\", 'COMPUTER VISION',\n",
    "                \"영상처리\", \"IMAGE PROCESSING\",\n",
    "                \"딥러닝\", \"DEEP LEARNING\", \n",
    "                \"머신러닝\", \"MACHINE LEARNING\",\n",
    "                \"이미지인식\", \"IMAGE RECOGNITION\",\n",
    "                \"이미지분석\", \"IMAGE ANALYSIS\",\n",
    "                \"VISION AI\",\n",
    "                \"OPENCV\"\n",
    "               ]\n",
    "\n",
    "search_words = [\"이미지인식\"]\n",
    "page_view_items = 100\n",
    "company_cd='0,1,2,3,4,5,6,7'\n",
    "base_link = 'https://www.saramin.co.kr'\n",
    "job_group = {}\n"
   ]
  },
  {
   "cell_type": "code",
   "execution_count": 2,
   "id": "d4fe133a",
   "metadata": {},
   "outputs": [
    {
     "ename": "NameError",
     "evalue": "name 'job_group' is not defined",
     "output_type": "error",
     "traceback": [
      "\u001b[1;31m---------------------------------------------------------------------------\u001b[0m",
      "\u001b[1;31mNameError\u001b[0m                                 Traceback (most recent call last)",
      "Input \u001b[1;32mIn [2]\u001b[0m, in \u001b[0;36m<cell line: 1>\u001b[1;34m()\u001b[0m\n\u001b[1;32m----> 1\u001b[0m \u001b[38;5;28mlen\u001b[39m(\u001b[43mjob_group\u001b[49m)\n",
      "\u001b[1;31mNameError\u001b[0m: name 'job_group' is not defined"
     ]
    }
   ],
   "source": [
    "len(job_group)"
   ]
  },
  {
   "cell_type": "code",
   "execution_count": 12,
   "id": "702ad92f",
   "metadata": {},
   "outputs": [],
   "source": [
    "# 머신러닝: 1450\n",
    "# MACHINE LEARNING: 1445\n",
    "# 딥러닝: 1158\n",
    "# DEEP LEARNING: 1158\n",
    "# 컴퓨터비전: 1120\n",
    "# 영상처리: 1037\n",
    "# COMPUTER VISION: 964\n",
    "# 이미지분석: 714\n",
    "# VISION AI: 657\n",
    "# IMAGE PROCESSING: 295\n",
    "# OPENCV: 232\n",
    "# 이미지인식: 222\n",
    "# IMAGE ANALYSIS: 21\n",
    "# IMAGE RECOGNITION: 12\n",
    "\n",
    "# 9365\n",
    "# job_group 2259"
   ]
  },
  {
   "cell_type": "code",
   "execution_count": 13,
   "id": "061b6b35",
   "metadata": {
    "scrolled": false
   },
   "outputs": [],
   "source": [
    "# JSON 파일 쓰기\n",
    "file_path = \"config/job_group.json\"\n",
    "\n",
    "tf = open(file_path, 'w')\n",
    "json.dump(job_group, tf)\n",
    "tf.close()"
   ]
  },
  {
   "cell_type": "code",
   "execution_count": 1,
   "id": "d76aff8e",
   "metadata": {},
   "outputs": [],
   "source": [
    "\n"
   ]
  },
  {
   "cell_type": "code",
   "execution_count": 2,
   "id": "996ed0a4",
   "metadata": {},
   "outputs": [],
   "source": [
    "# JSON 파일 불러오기\n",
    "file_path = \"config/job_group.json\"\n",
    "with open(file_path, 'r') as file:\n",
    "    job_group = json.load(file)"
   ]
  },
  {
   "cell_type": "code",
   "execution_count": 3,
   "id": "7bceaa38",
   "metadata": {},
   "outputs": [
    {
     "name": "stdout",
     "output_type": "stream",
     "text": [
      "24\n"
     ]
    }
   ],
   "source": [
    "print(len(job_group))"
   ]
  },
  {
   "cell_type": "code",
   "execution_count": 4,
   "id": "6ef65d43",
   "metadata": {},
   "outputs": [],
   "source": [
    "copy_group = {}"
   ]
  },
  {
   "cell_type": "code",
   "execution_count": 5,
   "id": "e4f96204",
   "metadata": {
    "scrolled": false
   },
   "outputs": [],
   "source": [
    "input_status = 5\n",
    "if input_status == 1:      status = 'all'\n",
    "elif input_status == 2:    status = 'wait'\n",
    "elif input_status == 3:    status = 'save'\n",
    "elif input_status == 4:    status = 'hold'\n",
    "elif input_status == 5:    status = 'close'\n",
    "        \n",
    "# ALL   : 1\n",
    "# WAIT  : 2\n",
    "# SAVE  : 3\n",
    "# HOLD  : 4\n",
    "# CLOSE : 5\n",
    "\n",
    "def filter_status_func():\n",
    "    try:\n",
    "        copy_group[companys].append(job_group[companys][idx])\n",
    "    except:\n",
    "        copy_group[companys] = []\n",
    "        copy_group[companys].append(job_group[companys][idx])\n",
    "    \n",
    "for companys in job_group:\n",
    "    for idx, job_list in enumerate(job_group[companys]):\n",
    "        if job_group[companys][idx]['status'] == status:    # ALL\n",
    "            test_func()\n",
    "        elif job_group[companys][idx]['status'] == status:    # WAIT\n",
    "            test_func()\n",
    "        elif job_group[companys][idx]['status'] == status:    # SAVE\n",
    "            test_func()\n",
    "        elif job_group[companys][idx]['status'] == status:    # HOLD\n",
    "            test_func()\n",
    "        elif job_group[companys][idx]['status'] == status:    # CLOSE\n",
    "            test_func()   "
   ]
  },
  {
   "cell_type": "code",
   "execution_count": 6,
   "id": "f8ddd4a0",
   "metadata": {},
   "outputs": [
    {
     "name": "stdout",
     "output_type": "stream",
     "text": [
      "{'스텔란티스코리아': [{'company': '스텔란티스코리아',\n",
      "               'company_link': 'https://www.saramin.co.kr/zf_user/company-info/view?csn=QWZyVlFHKy9RQkNRQmhSVXRDWnJ5UT09',\n",
      "               'input_date': '2022-08-28',\n",
      "               'status': 'close',\n",
      "               'title': '[수입차 Jeep/Peugeot] Product Planning (대리-과장급)',\n",
      "               'title_idx': 1,\n",
      "               'title_link': 'https://www.saramin.co.kr/zf_user/jobs/relay/view?view_type=search&rec_idx=43852302&location=ts&searchword=IMAGE+ANALYSIS&searchType=search&paid_fl=n&search_uuid=1fea4ee1-80dd-49cb-a985-e7bbcf9629ff'}],\n",
      " '제이엘케이': [{'company': '제이엘케이',\n",
      "            'company_link': 'https://www.saramin.co.kr/zf_user/company-info/view?csn=dGJHczlpN0NvYWNkaEhUbGRXZXdKUT09',\n",
      "            'input_date': '2022-08-28',\n",
      "            'status': 'close',\n",
      "            'title': '[JLK] 인공지능(AI)·빅데이터연구원 채용(병역특례가능)',\n",
      "            'title_idx': 0,\n",
      "            'title_link': 'https://www.saramin.co.kr/zf_user/jobs/relay/view?view_type=search&rec_idx=43622025&location=ts&searchword=IMAGE+ANALYSIS&searchType=search&paid_fl=n&search_uuid=1fea4ee1-80dd-49cb-a985-e7bbcf9629ff'}],\n",
      " '지멘스헬시니어스': [{'company': '지멘스헬시니어스',\n",
      "               'company_link': 'https://www.saramin.co.kr/zf_user/company-info/view?csn=MUpKUTJncHJyRXFVSi9tbDNmUVRmZz09',\n",
      "               'input_date': '2022-08-28',\n",
      "               'status': 'close',\n",
      "               'title': '[외국계] Ultrasound Engineer',\n",
      "               'title_idx': 0,\n",
      "               'title_link': 'https://www.saramin.co.kr/zf_user/jobs/relay/view?view_type=search&rec_idx=43445761&location=ts&searchword=IMAGE+ANALYSIS&searchType=search&paid_fl=n&search_uuid=1fea4ee1-80dd-49cb-a985-e7bbcf9629ff'}]}\n"
     ]
    }
   ],
   "source": [
    "pprint(copy_group)"
   ]
  },
  {
   "cell_type": "code",
   "execution_count": null,
   "id": "609ce83a",
   "metadata": {},
   "outputs": [],
   "source": []
  },
  {
   "cell_type": "code",
   "execution_count": null,
   "id": "5ea2e18f",
   "metadata": {},
   "outputs": [],
   "source": []
  },
  {
   "cell_type": "code",
   "execution_count": null,
   "id": "22c8a3c9",
   "metadata": {},
   "outputs": [],
   "source": []
  },
  {
   "cell_type": "code",
   "execution_count": 3,
   "id": "1e896b87",
   "metadata": {},
   "outputs": [
    {
     "name": "stdout",
     "output_type": "stream",
     "text": [
      "5935\n"
     ]
    }
   ],
   "source": [
    "# JSON 파일 불러오기\n",
    "file_path = \"config/job_group.json\"\n",
    "with open(file_path, 'r') as file:\n",
    "    job_group = json.load(file)\n",
    "print(len(job_group))"
   ]
  },
  {
   "cell_type": "code",
   "execution_count": 4,
   "id": "8dca3e75",
   "metadata": {},
   "outputs": [
    {
     "data": {
      "text/plain": [
       "'(주)샤플(SHAPL)'"
      ]
     },
     "execution_count": 4,
     "metadata": {},
     "output_type": "execute_result"
    }
   ],
   "source": [
    "job_company = '(주)샤플(SHAPL)'\n",
    "job_company"
   ]
  },
  {
   "cell_type": "code",
   "execution_count": 5,
   "id": "b5b72a9e",
   "metadata": {},
   "outputs": [],
   "source": [
    "# 회사명 - 특정 단어 제거\n",
    "for remove_word in remove_words:\n",
    "    if remove_word in job_company:\n",
    "        job_company = job_company.replace(remove_word, '')"
   ]
  },
  {
   "cell_type": "code",
   "execution_count": 6,
   "id": "f92dfc95",
   "metadata": {},
   "outputs": [
    {
     "data": {
      "text/plain": [
       "'샤플(SHAPL)'"
      ]
     },
     "execution_count": 6,
     "metadata": {},
     "output_type": "execute_result"
    }
   ],
   "source": [
    "job_company"
   ]
  },
  {
   "cell_type": "code",
   "execution_count": 9,
   "id": "fe7f6f5d",
   "metadata": {},
   "outputs": [
    {
     "data": {
      "text/plain": [
       "<re.Match object; span=(2, 9), match='(SHAPL)'>"
      ]
     },
     "execution_count": 9,
     "metadata": {},
     "output_type": "execute_result"
    }
   ],
   "source": [
    "company_re = re.search('\\(.*\\)', job_company)\n",
    "company_re\n"
   ]
  },
  {
   "cell_type": "code",
   "execution_count": 10,
   "id": "a6b14aaa",
   "metadata": {},
   "outputs": [
    {
     "data": {
      "text/plain": [
       "'(SHAPL)'"
      ]
     },
     "execution_count": 10,
     "metadata": {},
     "output_type": "execute_result"
    }
   ],
   "source": [
    "str_filtering = job_company[company_re.span()[0]:company_re.span()[1]]\n",
    "str_filtering"
   ]
  },
  {
   "cell_type": "code",
   "execution_count": 12,
   "id": "b42a29d6",
   "metadata": {},
   "outputs": [
    {
     "data": {
      "text/plain": [
       "'샤플'"
      ]
     },
     "execution_count": 12,
     "metadata": {},
     "output_type": "execute_result"
    }
   ],
   "source": [
    "job_company = job_company.replace(str_filtering, '')\n",
    "job_company"
   ]
  },
  {
   "cell_type": "code",
   "execution_count": null,
   "id": "f998f654",
   "metadata": {},
   "outputs": [],
   "source": []
  },
  {
   "cell_type": "code",
   "execution_count": null,
   "id": "4ee0275c",
   "metadata": {},
   "outputs": [],
   "source": [
    "if company_re:\n",
    "    str_filtering = job_company[company_re.span()[0]:company_re.span()[1]]\n",
    "    job_company = job_company.replace(str_filtering, '')"
   ]
  },
  {
   "cell_type": "code",
   "execution_count": null,
   "id": "b1e57f54",
   "metadata": {},
   "outputs": [],
   "source": []
  },
  {
   "cell_type": "code",
   "execution_count": 13,
   "id": "a4e4bd14",
   "metadata": {},
   "outputs": [],
   "source": [
    "def filtering_company_name(job_company):\n",
    "\n",
    "    # 회사명 - 특정 단어 제거\n",
    "    for remove_word in remove_words:\n",
    "        if remove_word in job_company:\n",
    "            job_company = job_company.replace(remove_word, '')\n",
    "            \n",
    "    # 회사명 - ()괄호 안의 모든 단어 제거\n",
    "    company_re = re.search('\\(.*\\)', job_company)\n",
    "    if company_re:\n",
    "        str_filtering = job_company[company_re.span()[0]:company_re.span()[1]]\n",
    "        job_company = job_company.replace(str_filtering, '')\n",
    "        \n",
    "\n",
    "    \n",
    "\n",
    "\n",
    "    return 1, job_company"
   ]
  },
  {
   "cell_type": "code",
   "execution_count": 15,
   "id": "e2755945",
   "metadata": {},
   "outputs": [
    {
     "data": {
      "text/plain": [
       "(1, '샤플')"
      ]
     },
     "execution_count": 15,
     "metadata": {},
     "output_type": "execute_result"
    }
   ],
   "source": [
    "filtering_company_name(job_company)"
   ]
  },
  {
   "cell_type": "code",
   "execution_count": null,
   "id": "c5639579",
   "metadata": {},
   "outputs": [],
   "source": []
  },
  {
   "cell_type": "code",
   "execution_count": null,
   "id": "68553f41",
   "metadata": {},
   "outputs": [],
   "source": []
  },
  {
   "cell_type": "code",
   "execution_count": null,
   "id": "d37da1c2",
   "metadata": {},
   "outputs": [],
   "source": []
  },
  {
   "cell_type": "code",
   "execution_count": null,
   "id": "1c95d658",
   "metadata": {},
   "outputs": [],
   "source": []
  },
  {
   "cell_type": "code",
   "execution_count": null,
   "id": "c08afb9e",
   "metadata": {},
   "outputs": [],
   "source": []
  },
  {
   "cell_type": "code",
   "execution_count": null,
   "id": "8b65392c",
   "metadata": {},
   "outputs": [],
   "source": []
  },
  {
   "cell_type": "code",
   "execution_count": 16,
   "id": "9c3639bb",
   "metadata": {
    "scrolled": false
   },
   "outputs": [
    {
     "name": "stdout",
     "output_type": "stream",
     "text": [
      "[에누리가격비교] 써머스플랫폼 검색개발 경력직 모집\n",
      "[에누리가격비교] 데이터엔지니어 / 데이터사이언티스트 채용\n",
      "[에누리가격비교] 데이터엔지니어 / 데이터사이언티스트 채용 Spring boot, JS, GA, Log, 수집, 분석, JAVA,ML, R, python, 추천, NLP\n",
      "데이터 사이언티스트  (ML, R, python,  추천, NLP)\n",
      "[에누리가격비교] 2022 써머스플랫폼 하반기 부문별 신입/경력 모집\n"
     ]
    }
   ],
   "source": [
    "for i in job_group['써머스플랫폼']:\n",
    "    print(i['title'])"
   ]
  },
  {
   "cell_type": "code",
   "execution_count": null,
   "id": "048a3f08",
   "metadata": {},
   "outputs": [],
   "source": []
  },
  {
   "cell_type": "code",
   "execution_count": null,
   "id": "902c9d64",
   "metadata": {},
   "outputs": [],
   "source": []
  },
  {
   "cell_type": "code",
   "execution_count": 2,
   "id": "bacc78d8",
   "metadata": {},
   "outputs": [],
   "source": []
  },
  {
   "cell_type": "code",
   "execution_count": null,
   "id": "a8c76610",
   "metadata": {},
   "outputs": [],
   "source": []
  },
  {
   "cell_type": "code",
   "execution_count": 4,
   "id": "e510f161",
   "metadata": {},
   "outputs": [],
   "source": [
    "job_company = \"(재)대한불교진흥원\""
   ]
  },
  {
   "cell_type": "code",
   "execution_count": 5,
   "id": "cfd674a3",
   "metadata": {},
   "outputs": [],
   "source": [
    "# 회사명 - 특정 단어 제거\n",
    "for remove_word in remove_words:\n",
    "    if remove_word in job_company:\n",
    "        job_company = job_company.replace(remove_word, '')"
   ]
  },
  {
   "cell_type": "code",
   "execution_count": 6,
   "id": "4b6bf541",
   "metadata": {},
   "outputs": [
    {
     "data": {
      "text/plain": [
       "[' ', '\\n', '주식회사', '(주)', '(재)㈜', '㈔', '재)', '주)']"
      ]
     },
     "execution_count": 6,
     "metadata": {},
     "output_type": "execute_result"
    }
   ],
   "source": [
    "remove_words"
   ]
  },
  {
   "cell_type": "code",
   "execution_count": 6,
   "id": "0ded40c6",
   "metadata": {},
   "outputs": [
    {
     "data": {
      "text/plain": [
       "'대한불교진흥원'"
      ]
     },
     "execution_count": 6,
     "metadata": {},
     "output_type": "execute_result"
    }
   ],
   "source": [
    "job_company"
   ]
  },
  {
   "cell_type": "code",
   "execution_count": null,
   "id": "74f563f6",
   "metadata": {},
   "outputs": [],
   "source": []
  },
  {
   "cell_type": "code",
   "execution_count": null,
   "id": "b24261b7",
   "metadata": {},
   "outputs": [],
   "source": []
  },
  {
   "cell_type": "code",
   "execution_count": 2,
   "id": "c87d1446",
   "metadata": {},
   "outputs": [],
   "source": [
    "\n",
    "\n",
    "# 회사명 - ()괄호 안의 모든 단어 제거\n",
    "company_re = re.search('\\(.*\\)', job_company)\n",
    "if company_re:\n",
    "    str_filtering = job_company[company_re.span()[0]:company_re.span()[1]]\n",
    "    job_company = job_company.replace(str_filtering, '')\n",
    "\n",
    "# 회사명 - 완전히 일치하는 회사명 리스트 필터링\n",
    "if job_company in filter_list_company_name:\n",
    "    return 0, \"none\"\n",
    "\n",
    "# 회사명 - 특정 단어가 포함되어 있는 회사 필터링\n",
    "for remove_word in filter_list_company_name_part:\n",
    "    if remove_word in job_company:\n",
    "        return 0, \"none\"\n",
    "\n",
    "return 1, job_company"
   ]
  },
  {
   "cell_type": "code",
   "execution_count": null,
   "id": "49d538cc",
   "metadata": {},
   "outputs": [],
   "source": []
  },
  {
   "cell_type": "code",
   "execution_count": null,
   "id": "00325341",
   "metadata": {},
   "outputs": [],
   "source": []
  },
  {
   "cell_type": "code",
   "execution_count": null,
   "id": "3e191f4f",
   "metadata": {},
   "outputs": [],
   "source": []
  },
  {
   "cell_type": "code",
   "execution_count": null,
   "id": "ad653b6b",
   "metadata": {},
   "outputs": [],
   "source": []
  }
 ],
 "metadata": {
  "kernelspec": {
   "display_name": "hackerrank",
   "language": "python",
   "name": "hackerrank"
  },
  "language_info": {
   "codemirror_mode": {
    "name": "ipython",
    "version": 3
   },
   "file_extension": ".py",
   "mimetype": "text/x-python",
   "name": "python",
   "nbconvert_exporter": "python",
   "pygments_lexer": "ipython3",
   "version": "3.9.12"
  }
 },
 "nbformat": 4,
 "nbformat_minor": 5
}
