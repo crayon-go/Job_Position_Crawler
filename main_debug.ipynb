{
 "cells": [
  {
   "cell_type": "code",
   "execution_count": 1,
   "id": "efc08c0f",
   "metadata": {
    "vscode": {
     "languageId": "plaintext"
    }
   },
   "outputs": [],
   "source": [
    "import requests\n",
    "import time\n",
    "import json\n",
    "import threading\n",
    "import queue\n",
    "import random\n",
    "import datetime\n",
    "import os\n",
    "import urllib3\n",
    "import pickle\n",
    "\n",
    "from urllib.error import URLError, HTTPError\n",
    "from bs4 import BeautifulSoup\n",
    "from collections import defaultdict\n",
    "from pprint import pprint\n",
    "\n",
    "from config.assistant import *\n",
    "\n",
    "urllib3.disable_warnings(urllib3.exceptions.InsecureRequestWarning)\n",
    "#from config.site_config import *"
   ]
  },
  {
   "cell_type": "code",
   "execution_count": 9,
   "id": "6d8af324",
   "metadata": {},
   "outputs": [],
   "source": [
    "# searchType=search\n",
    "# searchword=컴퓨터비전         # 검색어\n",
    "# loc_mcd=101000,102000         # 지역, 101000(서울),102000(경기)\n",
    "# company_cd=0,1,2,3,4,5,6,7    # 채용제공구분 / 9(파견/대행), 10(헤드헌팅)\n",
    "# search_optional_item=y\n",
    "# search_done=y\n",
    "# panel_count=y\n",
    "# recruitPage=1                 # 현재 페이지뷰\n",
    "# recruitSort=relation          # 정렬방법\n",
    "# recruitPageCount=100          # 표시 개수\n",
    "# inner_com_type=\n",
    "# show_applied=                 # 지원한 공고 표시\n",
    "# quick_apply=                  # 빠른 입사지원\n",
    "# except_read=                  # 조회한 페이지 제외\n",
    "# ai_head_hunting=\n",
    "# mainSearch=n"
   ]
  },
  {
   "cell_type": "code",
   "execution_count": 10,
   "id": "07f7721a",
   "metadata": {},
   "outputs": [],
   "source": [
    "search_words = [\"컴퓨터비전\", 'COMPUTER VISION',\n",
    "                \"영상처리\", \"IMAGE PROCESSING\",\n",
    "                \"딥러닝\", \"DEEP LEARNING\", \n",
    "                \"머신러닝\", \"MACHINE LEARNING\",\n",
    "                \"이미지인식\", \"IMAGE RECOGNITION\",\n",
    "                \"이미지분석\", \"IMAGE ANALYSIS\",\n",
    "                \"VISION AI\",\n",
    "                \"OPENCV\"\n",
    "               ]\n",
    "\n",
    "search_words = [\"이미지인식\"]\n",
    "page_view_items = 100\n",
    "company_cd='0,1,2,3,4,5,6,7'\n",
    "base_link = 'https://www.saramin.co.kr'\n",
    "job_group = {}\n"
   ]
  },
  {
   "cell_type": "code",
   "execution_count": 11,
   "id": "94a62c74",
   "metadata": {
    "scrolled": false
   },
   "outputs": [
    {
     "name": "stdout",
     "output_type": "stream",
     "text": [
      "이미지인식: 214\n",
      "Elapsed time is 12.548541784286499 seconds.\n"
     ]
    }
   ],
   "source": [
    "# 저장된 키워드 별 검색\n",
    "for search_word in search_words:\n",
    "    tic()\n",
    "    item_count = 0\n",
    "    current_page = 1\n",
    "    \n",
    "    # 검색 결과 리스트 페이지 별 확인\n",
    "    search_loop = True\n",
    "    while(search_loop):\n",
    "        search_link = f'https://www.saramin.co.kr/zf_user/search/recruit'\\\n",
    "            + f'?search_area=main'\\\n",
    "            + f'&search_done=y'\\\n",
    "            + f'&search_optional_item=n'\\\n",
    "            + f'&searchType=search'\\\n",
    "            + f'&recruitSort=relation'\\\n",
    "            + f'&searchword={search_word}'\\\n",
    "            + f'&recruitPage={current_page}'\\\n",
    "            + f'&recruitPageCount={page_view_items}'\\\n",
    "            + f'&company_cd={company_cd}'\\\n",
    "            + f'&mainSearch=y'\n",
    "\n",
    "        response = requests.get(search_link, verify=False)\n",
    "        html = response.text\n",
    "        soup = BeautifulSoup(html, 'html.parser')\n",
    "\n",
    "        if len(soup.find_all('div', attrs={'class': 'info_no_result'})) == 1:\n",
    "            search_loop = False\n",
    "        else:\n",
    "            current_page += 1\n",
    "\n",
    "            page_items = len(soup.find_all('h2', attrs={'class': 'job_tit'}))\n",
    "\n",
    "            # 해당 페이지 리스트 (1 ~ 100)\n",
    "            for i in range(1, page_items+1):\n",
    "                elements = soup.select(f'div.content > div:nth-child({i})')[0]\n",
    "\n",
    "                # 채용공고명\n",
    "                str_title = elements.find('a', attrs={'class': 'data_layer'})['title']\n",
    "\n",
    "                # 회사명\n",
    "                try:\n",
    "                    str_company1 = elements.find('a', attrs={'class': 'track_event data_layer'}).text\n",
    "                    #str_company = str_company.replace(' ', '').replace('\\n', '').replace('(주)', '')\n",
    "                    str_company2 = str_company1.replace(' ', '')\n",
    "                    str_company3 = str_company2.replace('\\n', '')\n",
    "                    str_company = str_company3.replace('(주)', '')\n",
    "                except:\n",
    "                    print(str_company1)\n",
    "                    print(str_company2)\n",
    "                    print(str_company3)\n",
    "                    print(str_company)\n",
    "\n",
    "                # 채용공고 링크\n",
    "                str_title_link = base_link + elements.find('a', attrs={'class': 'data_layer'})['href']\n",
    "\n",
    "                # 회사 링크\n",
    "                str_company_link = base_link + elements.find('a', attrs={'class': 'track_event data_layer'})['href']\n",
    "\n",
    "                # Dictionary에 저장\n",
    "                if str_company in job_group:    # 회사명 - 기존에 있으면\n",
    "                    for company in job_group[str_company]:\n",
    "                        if company['title'] == str_title:    # 채용공고명 - 기존에 있으면\n",
    "                            break\n",
    "                    else:\n",
    "                        job_group[str_company].append({'company': str_company, \\\n",
    "                                                       'title': str_title, \\\n",
    "                                                       'title_link': str_title_link, \\\n",
    "                                                       'company_link': str_company_link, \\\n",
    "                                                       'input_date': datetime.date.today().isoformat(), \\\n",
    "                                                       'status': 'wait'\n",
    "                                                      })\n",
    "\n",
    "                else:    # 회사명 - 신규진입\n",
    "                    job_group[str_company] = []\n",
    "                    job_group[str_company].append({'company': str_company, \\\n",
    "                                                   'title': str_title, \\\n",
    "                                                   'title_link': str_title_link, \\\n",
    "                                                   'company_link': str_company_link, \\\n",
    "                                                   'input_date': datetime.date.today().isoformat(), \\\n",
    "                                                   'status': 'wait'\n",
    "                                                  })\n",
    "\n",
    "                item_count += 1\n",
    "                \n",
    "    print(f'{search_word}: {item_count}')\n",
    "    toc()"
   ]
  },
  {
   "cell_type": "code",
   "execution_count": 2,
   "id": "d4fe133a",
   "metadata": {},
   "outputs": [
    {
     "ename": "NameError",
     "evalue": "name 'job_group' is not defined",
     "output_type": "error",
     "traceback": [
      "\u001b[1;31m---------------------------------------------------------------------------\u001b[0m",
      "\u001b[1;31mNameError\u001b[0m                                 Traceback (most recent call last)",
      "Input \u001b[1;32mIn [2]\u001b[0m, in \u001b[0;36m<cell line: 1>\u001b[1;34m()\u001b[0m\n\u001b[1;32m----> 1\u001b[0m \u001b[38;5;28mlen\u001b[39m(\u001b[43mjob_group\u001b[49m)\n",
      "\u001b[1;31mNameError\u001b[0m: name 'job_group' is not defined"
     ]
    }
   ],
   "source": [
    "len(job_group)"
   ]
  },
  {
   "cell_type": "code",
   "execution_count": 12,
   "id": "702ad92f",
   "metadata": {},
   "outputs": [],
   "source": [
    "# 머신러닝: 1450\n",
    "# MACHINE LEARNING: 1445\n",
    "# 딥러닝: 1158\n",
    "# DEEP LEARNING: 1158\n",
    "# 컴퓨터비전: 1120\n",
    "# 영상처리: 1037\n",
    "# COMPUTER VISION: 964\n",
    "# 이미지분석: 714\n",
    "# VISION AI: 657\n",
    "# IMAGE PROCESSING: 295\n",
    "# OPENCV: 232\n",
    "# 이미지인식: 222\n",
    "# IMAGE ANALYSIS: 21\n",
    "# IMAGE RECOGNITION: 12\n",
    "\n",
    "# 9365\n",
    "# job_group 2259"
   ]
  },
  {
   "cell_type": "code",
   "execution_count": 13,
   "id": "061b6b35",
   "metadata": {
    "scrolled": false
   },
   "outputs": [],
   "source": [
    "# JSON 파일 쓰기\n",
    "file_path = \"config/job_group.json\"\n",
    "\n",
    "tf = open(file_path, 'w')\n",
    "json.dump(job_group, tf)\n",
    "tf.close()"
   ]
  },
  {
   "cell_type": "code",
   "execution_count": 1,
   "id": "d76aff8e",
   "metadata": {},
   "outputs": [],
   "source": [
    "\n"
   ]
  },
  {
   "cell_type": "code",
   "execution_count": 2,
   "id": "996ed0a4",
   "metadata": {},
   "outputs": [],
   "source": [
    "# JSON 파일 불러오기\n",
    "file_path = \"config/job_group.json\"\n",
    "with open(file_path, 'r') as file:\n",
    "    job_group = json.load(file)"
   ]
  },
  {
   "cell_type": "code",
   "execution_count": 3,
   "id": "7bceaa38",
   "metadata": {},
   "outputs": [
    {
     "name": "stdout",
     "output_type": "stream",
     "text": [
      "24\n"
     ]
    }
   ],
   "source": [
    "print(len(job_group))"
   ]
  },
  {
   "cell_type": "code",
   "execution_count": 4,
   "id": "6ef65d43",
   "metadata": {},
   "outputs": [],
   "source": [
    "copy_group = {}"
   ]
  },
  {
   "cell_type": "code",
   "execution_count": 5,
   "id": "e4f96204",
   "metadata": {
    "scrolled": false
   },
   "outputs": [],
   "source": [
    "input_status = 5\n",
    "if input_status == 1:      status = 'all'\n",
    "elif input_status == 2:    status = 'wait'\n",
    "elif input_status == 3:    status = 'save'\n",
    "elif input_status == 4:    status = 'hold'\n",
    "elif input_status == 5:    status = 'close'\n",
    "        \n",
    "# ALL   : 1\n",
    "# WAIT  : 2\n",
    "# SAVE  : 3\n",
    "# HOLD  : 4\n",
    "# CLOSE : 5\n",
    "\n",
    "def filter_status_func():\n",
    "    try:\n",
    "        copy_group[companys].append(job_group[companys][idx])\n",
    "    except:\n",
    "        copy_group[companys] = []\n",
    "        copy_group[companys].append(job_group[companys][idx])\n",
    "    \n",
    "for companys in job_group:\n",
    "    for idx, job_list in enumerate(job_group[companys]):\n",
    "        if job_group[companys][idx]['status'] == status:    # ALL\n",
    "            test_func()\n",
    "        elif job_group[companys][idx]['status'] == status:    # WAIT\n",
    "            test_func()\n",
    "        elif job_group[companys][idx]['status'] == status:    # SAVE\n",
    "            test_func()\n",
    "        elif job_group[companys][idx]['status'] == status:    # HOLD\n",
    "            test_func()\n",
    "        elif job_group[companys][idx]['status'] == status:    # CLOSE\n",
    "            test_func()   "
   ]
  },
  {
   "cell_type": "code",
   "execution_count": 6,
   "id": "f8ddd4a0",
   "metadata": {},
   "outputs": [
    {
     "name": "stdout",
     "output_type": "stream",
     "text": [
      "{'스텔란티스코리아': [{'company': '스텔란티스코리아',\n",
      "               'company_link': 'https://www.saramin.co.kr/zf_user/company-info/view?csn=QWZyVlFHKy9RQkNRQmhSVXRDWnJ5UT09',\n",
      "               'input_date': '2022-08-28',\n",
      "               'status': 'close',\n",
      "               'title': '[수입차 Jeep/Peugeot] Product Planning (대리-과장급)',\n",
      "               'title_idx': 1,\n",
      "               'title_link': 'https://www.saramin.co.kr/zf_user/jobs/relay/view?view_type=search&rec_idx=43852302&location=ts&searchword=IMAGE+ANALYSIS&searchType=search&paid_fl=n&search_uuid=1fea4ee1-80dd-49cb-a985-e7bbcf9629ff'}],\n",
      " '제이엘케이': [{'company': '제이엘케이',\n",
      "            'company_link': 'https://www.saramin.co.kr/zf_user/company-info/view?csn=dGJHczlpN0NvYWNkaEhUbGRXZXdKUT09',\n",
      "            'input_date': '2022-08-28',\n",
      "            'status': 'close',\n",
      "            'title': '[JLK] 인공지능(AI)·빅데이터연구원 채용(병역특례가능)',\n",
      "            'title_idx': 0,\n",
      "            'title_link': 'https://www.saramin.co.kr/zf_user/jobs/relay/view?view_type=search&rec_idx=43622025&location=ts&searchword=IMAGE+ANALYSIS&searchType=search&paid_fl=n&search_uuid=1fea4ee1-80dd-49cb-a985-e7bbcf9629ff'}],\n",
      " '지멘스헬시니어스': [{'company': '지멘스헬시니어스',\n",
      "               'company_link': 'https://www.saramin.co.kr/zf_user/company-info/view?csn=MUpKUTJncHJyRXFVSi9tbDNmUVRmZz09',\n",
      "               'input_date': '2022-08-28',\n",
      "               'status': 'close',\n",
      "               'title': '[외국계] Ultrasound Engineer',\n",
      "               'title_idx': 0,\n",
      "               'title_link': 'https://www.saramin.co.kr/zf_user/jobs/relay/view?view_type=search&rec_idx=43445761&location=ts&searchword=IMAGE+ANALYSIS&searchType=search&paid_fl=n&search_uuid=1fea4ee1-80dd-49cb-a985-e7bbcf9629ff'}]}\n"
     ]
    }
   ],
   "source": [
    "pprint(copy_group)"
   ]
  },
  {
   "cell_type": "code",
   "execution_count": null,
   "id": "48fce344",
   "metadata": {},
   "outputs": [],
   "source": []
  },
  {
   "cell_type": "code",
   "execution_count": null,
   "id": "b02a56bb",
   "metadata": {},
   "outputs": [],
   "source": []
  },
  {
   "cell_type": "code",
   "execution_count": null,
   "id": "ef7c1477",
   "metadata": {},
   "outputs": [],
   "source": []
  },
  {
   "cell_type": "code",
   "execution_count": 3,
   "id": "f3787af8",
   "metadata": {},
   "outputs": [
    {
     "name": "stdout",
     "output_type": "stream",
     "text": [
      "4843\n"
     ]
    }
   ],
   "source": [
    "# JSON 파일 불러오기\n",
    "file_path = \"config/job_group.json\"\n",
    "with open(file_path, 'r') as file:\n",
    "    job_group = json.load(file)\n",
    "print(len(job_group))"
   ]
  },
  {
   "cell_type": "code",
   "execution_count": 6,
   "id": "d28506c6",
   "metadata": {},
   "outputs": [
    {
     "name": "stdout",
     "output_type": "stream",
     "text": [
      "11\n"
     ]
    }
   ],
   "source": [
    "send_job_group = {}\n",
    "if len(job_group) > 100:\n",
    "    print(\"11\")"
   ]
  },
  {
   "cell_type": "code",
   "execution_count": 19,
   "id": "2955a3db",
   "metadata": {},
   "outputs": [
    {
     "name": "stdout",
     "output_type": "stream",
     "text": [
      "0\n"
     ]
    }
   ],
   "source": [
    "for idx, title_name in enumerate(job_group):\n",
    "    print(idx)\n",
    "    send_job_group[title_name] = job_group[title_name]\n",
    "    break"
   ]
  },
  {
   "cell_type": "code",
   "execution_count": 13,
   "id": "ae6692dd",
   "metadata": {},
   "outputs": [],
   "source": [
    "send_job_group[\"팅크웨어\"][0]['status'] = \"close\""
   ]
  },
  {
   "cell_type": "code",
   "execution_count": 14,
   "id": "ae3c11f2",
   "metadata": {},
   "outputs": [
    {
     "data": {
      "text/plain": [
       "'close'"
      ]
     },
     "execution_count": 14,
     "metadata": {},
     "output_type": "execute_result"
    }
   ],
   "source": [
    "send_job_group[\"팅크웨어\"][0]['status']"
   ]
  },
  {
   "cell_type": "code",
   "execution_count": 15,
   "id": "e6f9b337",
   "metadata": {},
   "outputs": [
    {
     "data": {
      "text/plain": [
       "'close'"
      ]
     },
     "execution_count": 15,
     "metadata": {},
     "output_type": "execute_result"
    }
   ],
   "source": [
    "job_group[\"팅크웨어\"][0]['status']"
   ]
  },
  {
   "cell_type": "code",
   "execution_count": null,
   "id": "ff406091",
   "metadata": {},
   "outputs": [],
   "source": []
  }
 ],
 "metadata": {
  "kernelspec": {
   "display_name": "hackerrank",
   "language": "python",
   "name": "hackerrank"
  },
  "language_info": {
   "codemirror_mode": {
    "name": "ipython",
    "version": 3
   },
   "file_extension": ".py",
   "mimetype": "text/x-python",
   "name": "python",
   "nbconvert_exporter": "python",
   "pygments_lexer": "ipython3",
   "version": "3.9.12"
  }
 },
 "nbformat": 4,
 "nbformat_minor": 5
}
