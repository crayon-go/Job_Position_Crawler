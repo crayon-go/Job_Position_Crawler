{
 "cells": [
  {
   "cell_type": "code",
   "execution_count": 2,
   "id": "efc08c0f",
   "metadata": {
    "vscode": {
     "languageId": "plaintext"
    }
   },
   "outputs": [],
   "source": [
    "import requests\n",
    "import time\n",
    "import json\n",
    "import threading\n",
    "import queue\n",
    "import random\n",
    "import datetime\n",
    "import os\n",
    "import urllib3\n",
    "import pickle\n",
    "import re\n",
    "\n",
    "from urllib.error import URLError, HTTPError\n",
    "from bs4 import BeautifulSoup\n",
    "from collections import defaultdict\n",
    "from pprint import pprint\n",
    "from config.assistant import *\n",
    "from config.site_config import *\n",
    "from tqdm import tqdm\n",
    "\n",
    "urllib3.disable_warnings(urllib3.exceptions.InsecureRequestWarning)"
   ]
  },
  {
   "cell_type": "code",
   "execution_count": 9,
   "id": "6d8af324",
   "metadata": {},
   "outputs": [],
   "source": [
    "# searchType=search\n",
    "# searchword=컴퓨터비전         # 검색어\n",
    "# loc_mcd=101000,102000         # 지역, 101000(서울),102000(경기)\n",
    "# company_cd=0,1,2,3,4,5,6,7    # 채용제공구분 / 9(파견/대행), 10(헤드헌팅)\n",
    "# search_optional_item=y\n",
    "# search_done=y\n",
    "# panel_count=y\n",
    "# recruitPage=1                 # 현재 페이지뷰\n",
    "# recruitSort=relation          # 정렬방법\n",
    "# recruitPageCount=100          # 표시 개수\n",
    "# inner_com_type=\n",
    "# show_applied=                 # 지원한 공고 표시\n",
    "# quick_apply=                  # 빠른 입사지원\n",
    "# except_read=                  # 조회한 페이지 제외\n",
    "# ai_head_hunting=\n",
    "# mainSearch=n"
   ]
  },
  {
   "cell_type": "code",
   "execution_count": 2,
   "id": "07f7721a",
   "metadata": {},
   "outputs": [],
   "source": [
    "search_words = [\"컴퓨터비전\", 'COMPUTER VISION',\n",
    "                \"영상처리\", \"IMAGE PROCESSING\",\n",
    "                \"딥러닝\", \"DEEP LEARNING\", \n",
    "                \"머신러닝\", \"MACHINE LEARNING\",\n",
    "                \"이미지인식\", \"IMAGE RECOGNITION\",\n",
    "                \"이미지분석\", \"IMAGE ANALYSIS\",\n",
    "                \"VISION AI\",\n",
    "                \"OPENCV\"\n",
    "               ]\n",
    "\n",
    "search_words = [\"이미지인식\"]\n",
    "page_view_items = 100\n",
    "company_cd='0,1,2,3,4,5,6,7'\n",
    "base_link = 'https://www.saramin.co.kr'\n",
    "job_group = {}\n"
   ]
  },
  {
   "cell_type": "code",
   "execution_count": 2,
   "id": "d4fe133a",
   "metadata": {},
   "outputs": [
    {
     "ename": "NameError",
     "evalue": "name 'job_group' is not defined",
     "output_type": "error",
     "traceback": [
      "\u001b[1;31m---------------------------------------------------------------------------\u001b[0m",
      "\u001b[1;31mNameError\u001b[0m                                 Traceback (most recent call last)",
      "Input \u001b[1;32mIn [2]\u001b[0m, in \u001b[0;36m<cell line: 1>\u001b[1;34m()\u001b[0m\n\u001b[1;32m----> 1\u001b[0m \u001b[38;5;28mlen\u001b[39m(\u001b[43mjob_group\u001b[49m)\n",
      "\u001b[1;31mNameError\u001b[0m: name 'job_group' is not defined"
     ]
    }
   ],
   "source": [
    "len(job_group)"
   ]
  },
  {
   "cell_type": "code",
   "execution_count": 12,
   "id": "702ad92f",
   "metadata": {},
   "outputs": [],
   "source": [
    "# 머신러닝: 1450\n",
    "# MACHINE LEARNING: 1445\n",
    "# 딥러닝: 1158\n",
    "# DEEP LEARNING: 1158\n",
    "# 컴퓨터비전: 1120\n",
    "# 영상처리: 1037\n",
    "# COMPUTER VISION: 964\n",
    "# 이미지분석: 714\n",
    "# VISION AI: 657\n",
    "# IMAGE PROCESSING: 295\n",
    "# OPENCV: 232\n",
    "# 이미지인식: 222\n",
    "# IMAGE ANALYSIS: 21\n",
    "# IMAGE RECOGNITION: 12\n",
    "\n",
    "# 9365\n",
    "# job_group 2259"
   ]
  },
  {
   "cell_type": "code",
   "execution_count": 13,
   "id": "061b6b35",
   "metadata": {
    "scrolled": false
   },
   "outputs": [],
   "source": [
    "# JSON 파일 쓰기\n",
    "file_path = \"config/job_group.json\"\n",
    "\n",
    "tf = open(file_path, 'w')\n",
    "json.dump(job_group, tf)\n",
    "tf.close()"
   ]
  },
  {
   "cell_type": "code",
   "execution_count": 1,
   "id": "d76aff8e",
   "metadata": {},
   "outputs": [],
   "source": [
    "\n"
   ]
  },
  {
   "cell_type": "code",
   "execution_count": 2,
   "id": "996ed0a4",
   "metadata": {},
   "outputs": [],
   "source": [
    "# JSON 파일 불러오기\n",
    "file_path = \"config/job_group.json\"\n",
    "with open(file_path, 'r') as file:\n",
    "    job_group = json.load(file)"
   ]
  },
  {
   "cell_type": "code",
   "execution_count": 3,
   "id": "7bceaa38",
   "metadata": {},
   "outputs": [
    {
     "name": "stdout",
     "output_type": "stream",
     "text": [
      "24\n"
     ]
    }
   ],
   "source": [
    "print(len(job_group))"
   ]
  },
  {
   "cell_type": "code",
   "execution_count": 4,
   "id": "6ef65d43",
   "metadata": {},
   "outputs": [],
   "source": [
    "copy_group = {}"
   ]
  },
  {
   "cell_type": "code",
   "execution_count": 5,
   "id": "e4f96204",
   "metadata": {
    "scrolled": false
   },
   "outputs": [],
   "source": [
    "input_status = 5\n",
    "if input_status == 1:      status = 'all'\n",
    "elif input_status == 2:    status = 'wait'\n",
    "elif input_status == 3:    status = 'save'\n",
    "elif input_status == 4:    status = 'hold'\n",
    "elif input_status == 5:    status = 'close'\n",
    "        \n",
    "# ALL   : 1\n",
    "# WAIT  : 2\n",
    "# SAVE  : 3\n",
    "# HOLD  : 4\n",
    "# CLOSE : 5\n",
    "\n",
    "def filter_status_func():\n",
    "    try:\n",
    "        copy_group[companys].append(job_group[companys][idx])\n",
    "    except:\n",
    "        copy_group[companys] = []\n",
    "        copy_group[companys].append(job_group[companys][idx])\n",
    "    \n",
    "for companys in job_group:\n",
    "    for idx, job_list in enumerate(job_group[companys]):\n",
    "        if job_group[companys][idx]['status'] == status:    # ALL\n",
    "            test_func()\n",
    "        elif job_group[companys][idx]['status'] == status:    # WAIT\n",
    "            test_func()\n",
    "        elif job_group[companys][idx]['status'] == status:    # SAVE\n",
    "            test_func()\n",
    "        elif job_group[companys][idx]['status'] == status:    # HOLD\n",
    "            test_func()\n",
    "        elif job_group[companys][idx]['status'] == status:    # CLOSE\n",
    "            test_func()   "
   ]
  },
  {
   "cell_type": "code",
   "execution_count": 6,
   "id": "f8ddd4a0",
   "metadata": {},
   "outputs": [
    {
     "name": "stdout",
     "output_type": "stream",
     "text": [
      "{'스텔란티스코리아': [{'company': '스텔란티스코리아',\n",
      "               'company_link': 'https://www.saramin.co.kr/zf_user/company-info/view?csn=QWZyVlFHKy9RQkNRQmhSVXRDWnJ5UT09',\n",
      "               'input_date': '2022-08-28',\n",
      "               'status': 'close',\n",
      "               'title': '[수입차 Jeep/Peugeot] Product Planning (대리-과장급)',\n",
      "               'title_idx': 1,\n",
      "               'title_link': 'https://www.saramin.co.kr/zf_user/jobs/relay/view?view_type=search&rec_idx=43852302&location=ts&searchword=IMAGE+ANALYSIS&searchType=search&paid_fl=n&search_uuid=1fea4ee1-80dd-49cb-a985-e7bbcf9629ff'}],\n",
      " '제이엘케이': [{'company': '제이엘케이',\n",
      "            'company_link': 'https://www.saramin.co.kr/zf_user/company-info/view?csn=dGJHczlpN0NvYWNkaEhUbGRXZXdKUT09',\n",
      "            'input_date': '2022-08-28',\n",
      "            'status': 'close',\n",
      "            'title': '[JLK] 인공지능(AI)·빅데이터연구원 채용(병역특례가능)',\n",
      "            'title_idx': 0,\n",
      "            'title_link': 'https://www.saramin.co.kr/zf_user/jobs/relay/view?view_type=search&rec_idx=43622025&location=ts&searchword=IMAGE+ANALYSIS&searchType=search&paid_fl=n&search_uuid=1fea4ee1-80dd-49cb-a985-e7bbcf9629ff'}],\n",
      " '지멘스헬시니어스': [{'company': '지멘스헬시니어스',\n",
      "               'company_link': 'https://www.saramin.co.kr/zf_user/company-info/view?csn=MUpKUTJncHJyRXFVSi9tbDNmUVRmZz09',\n",
      "               'input_date': '2022-08-28',\n",
      "               'status': 'close',\n",
      "               'title': '[외국계] Ultrasound Engineer',\n",
      "               'title_idx': 0,\n",
      "               'title_link': 'https://www.saramin.co.kr/zf_user/jobs/relay/view?view_type=search&rec_idx=43445761&location=ts&searchword=IMAGE+ANALYSIS&searchType=search&paid_fl=n&search_uuid=1fea4ee1-80dd-49cb-a985-e7bbcf9629ff'}]}\n"
     ]
    }
   ],
   "source": [
    "pprint(copy_group)"
   ]
  },
  {
   "cell_type": "code",
   "execution_count": null,
   "id": "609ce83a",
   "metadata": {},
   "outputs": [],
   "source": []
  },
  {
   "cell_type": "code",
   "execution_count": null,
   "id": "5ea2e18f",
   "metadata": {},
   "outputs": [],
   "source": []
  },
  {
   "cell_type": "code",
   "execution_count": null,
   "id": "22c8a3c9",
   "metadata": {},
   "outputs": [],
   "source": []
  },
  {
   "cell_type": "code",
   "execution_count": 3,
   "id": "1e896b87",
   "metadata": {},
   "outputs": [
    {
     "name": "stdout",
     "output_type": "stream",
     "text": [
      "5688\n"
     ]
    }
   ],
   "source": [
    "# JSON 파일 불러오기\n",
    "file_path = \"config/job_group.json\"\n",
    "with open(file_path, 'r') as file:\n",
    "    job_group = json.load(file)\n",
    "print(len(job_group))"
   ]
  },
  {
   "cell_type": "code",
   "execution_count": 4,
   "id": "04201003",
   "metadata": {},
   "outputs": [
    {
     "data": {
      "text/plain": [
       "5"
      ]
     },
     "execution_count": 4,
     "metadata": {},
     "output_type": "execute_result"
    }
   ],
   "source": [
    "len(job_group['메디픽셀'])"
   ]
  },
  {
   "cell_type": "code",
   "execution_count": 6,
   "id": "9c3639bb",
   "metadata": {
    "scrolled": false
   },
   "outputs": [
    {
     "name": "stdout",
     "output_type": "stream",
     "text": [
      "[전문연구요원] Computer Vision 의료 리서치 엔지니어 채용\n",
      "의료영상 리서치 엔지니어 (전문연구요원 가능)\n",
      "[전문연구요원] 딥러닝/영상처리/의료 엔지니어 채용\n",
      "[메디픽셀] 의료기기 품질관리자(QA) 경력직 채용\n",
      "Machine Learning Team Lead 채용\n"
     ]
    }
   ],
   "source": [
    "for i in job_group['메디픽셀']:\n",
    "    print(i['title'])"
   ]
  },
  {
   "cell_type": "code",
   "execution_count": null,
   "id": "048a3f08",
   "metadata": {},
   "outputs": [],
   "source": []
  },
  {
   "cell_type": "code",
   "execution_count": null,
   "id": "20b2be1f",
   "metadata": {},
   "outputs": [],
   "source": []
  },
  {
   "cell_type": "code",
   "execution_count": null,
   "id": "cac155fe",
   "metadata": {},
   "outputs": [],
   "source": [
    "\n",
    "for search_word in search_words:\n",
    "\n",
    "    item_count = 0\n",
    "    current_page = 1\n",
    "    \n",
    "    # 검색 결과 리스트 페이지 별 확인\n",
    "    search_loop = True\n",
    "    while(search_loop):\n",
    "        search_link = f'https://www.saramin.co.kr/zf_user/search/recruit'\\\n",
    "            + f'?search_area=main'\\\n",
    "            + f'&search_done=y'\\\n",
    "            + f'&search_optional_item=n'\\\n",
    "            + f'&searchType=search'\\\n",
    "            + f'&recruitSort=relation'\\\n",
    "            + f'&searchword={search_word}'\\\n",
    "            + f'&recruitPage={current_page}'\\\n",
    "            + f'&recruitPageCount={page_view_items}'\\\n",
    "            + f'&company_cd={company_cd}'\\\n",
    "            + f'&mainSearch=y'\n",
    "        print(search_link)\n",
    "        response = requests.get(search_link, verify=False)\n",
    "        html = response.text\n",
    "        soup = BeautifulSoup(html, 'html.parser')\n",
    "\n",
    "        if len(soup.find_all('div', attrs={'class': 'info_no_result'})) == 1:\n",
    "            search_loop = False\n",
    "        else:\n",
    "            current_page += 1\n",
    "\n",
    "            page_items = len(soup.find_all('h2', attrs={'class': 'job_tit'}))\n",
    "\n",
    "            # 해당 페이지 리스트 (1 ~ 100)\n",
    "            for i in range(1, page_items+1):\n",
    "                elements = soup.select(f'div.content > div:nth-child({i})')[0]\n",
    "\n",
    "                # 회사명\n",
    "                job_company = elements.find('a', attrs={'class': 'track_event data_layer'}).text\n",
    "                filtering_result = filtering_company(job_company)\n",
    "                if filtering_result[0] == 0:\n",
    "                    continue\n",
    "                else:\n",
    "                    job_company = filtering_result[1]\n",
    "                    \n",
    "                # 채용공고명\n",
    "                job_posting = elements.find('a', attrs={'class': 'data_layer'})['title']\n",
    "\n",
    "                # 채용공고 링크\n",
    "                posting_link = base_link_saram + elements.find('a', attrs={'class': 'data_layer'})['href']\n",
    "\n",
    "                # 회사 링크\n",
    "                company_link = base_link_saram + elements.find('a', attrs={'class': 'track_event data_layer'})['href']\n",
    "\n",
    "                # Dictionary에 저장\n",
    "                save_dictionary(job_company, company_link, job_posting, posting_link)\n",
    "                \n",
    "                item_count += 1\n",
    "        "
   ]
  },
  {
   "cell_type": "code",
   "execution_count": 1,
   "id": "aab39de2",
   "metadata": {},
   "outputs": [],
   "source": [
    "search_link = \"https://www.saramin.co.kr/zf_user/search/recruit?search_area=main&search_done=y&search_optional_item=n&searchType=search&recruitSort=relation&searchword=%EC%BB%B4%ED%93%A8%ED%84%B0%EB%B9%84%EC%A0%84&recruitPage=1&recruitPageCount=100&company_cd=0,1,2,3,4,5,6,7&mainSearch=y\"\n"
   ]
  },
  {
   "cell_type": "code",
   "execution_count": 2,
   "id": "22feb5ce",
   "metadata": {},
   "outputs": [
    {
     "name": "stdout",
     "output_type": "stream",
     "text": [
      "<Response [200]>\n"
     ]
    }
   ],
   "source": [
    "import requests\n",
    "\n",
    "request_headers = {\n",
    "    'User-Agent': ('Mozilla/5.0 (Windows NT 10.0; Win64; x64) AppleWebKit/537.36 '\n",
    "                   '(KHTML, like Gecko) Chrome/68.0.3440.75 Safari/537.36'),\n",
    "}\n",
    "\n",
    "url = 'https://search.naver.com/search.naver'\n",
    "\n",
    "response = requests.get(search_link, headers = request_headers)\n",
    "print(response)"
   ]
  },
  {
   "cell_type": "code",
   "execution_count": 3,
   "id": "e93aeede",
   "metadata": {},
   "outputs": [
    {
     "name": "stdout",
     "output_type": "stream",
     "text": [
      "<Response [400]>\n"
     ]
    }
   ],
   "source": [
    "import requests\n",
    "response = requests.get(search_link)\n",
    "print(response)"
   ]
  },
  {
   "cell_type": "code",
   "execution_count": 3,
   "id": "9cfef928",
   "metadata": {},
   "outputs": [],
   "source": [
    "response = requests.get(search_link, verify=False)\n",
    "html = response.text\n",
    "soup = BeautifulSoup(html, 'html.parser')"
   ]
  },
  {
   "cell_type": "code",
   "execution_count": 6,
   "id": "62a59d0b",
   "metadata": {},
   "outputs": [
    {
     "data": {
      "text/plain": [
       "<Response [400]>"
      ]
     },
     "execution_count": 6,
     "metadata": {},
     "output_type": "execute_result"
    }
   ],
   "source": [
    "response"
   ]
  },
  {
   "cell_type": "code",
   "execution_count": 4,
   "id": "87a1a6df",
   "metadata": {},
   "outputs": [
    {
     "data": {
      "text/plain": [
       "'<meta http-equiv=\"refresh\" content=\"0;url=https://www.saramin.co.kr/error/HTTP_BAD_REQUEST.php\">'"
      ]
     },
     "execution_count": 4,
     "metadata": {},
     "output_type": "execute_result"
    }
   ],
   "source": [
    "html"
   ]
  },
  {
   "cell_type": "code",
   "execution_count": 5,
   "id": "4ebe60d6",
   "metadata": {},
   "outputs": [
    {
     "data": {
      "text/plain": [
       "<meta content=\"0;url=https://www.saramin.co.kr/error/HTTP_BAD_REQUEST.php\" http-equiv=\"refresh\"/>"
      ]
     },
     "execution_count": 5,
     "metadata": {},
     "output_type": "execute_result"
    }
   ],
   "source": [
    "soup"
   ]
  },
  {
   "cell_type": "code",
   "execution_count": 6,
   "id": "3f78ca57",
   "metadata": {},
   "outputs": [
    {
     "data": {
      "text/plain": [
       "[]"
      ]
     },
     "execution_count": 6,
     "metadata": {},
     "output_type": "execute_result"
    }
   ],
   "source": [
    "soup.find_all('h2', attrs={'class': 'job_tit'})"
   ]
  },
  {
   "cell_type": "code",
   "execution_count": null,
   "id": "ae22a653",
   "metadata": {},
   "outputs": [],
   "source": [
    "#recruit_info > div.header > span"
   ]
  },
  {
   "cell_type": "code",
   "execution_count": null,
   "id": "9a9cc3ea",
   "metadata": {},
   "outputs": [],
   "source": [
    "<span class=\"cnt_result\">총 1,246건</span>"
   ]
  },
  {
   "cell_type": "code",
   "execution_count": null,
   "id": "55a290c3",
   "metadata": {},
   "outputs": [],
   "source": []
  }
 ],
 "metadata": {
  "kernelspec": {
   "display_name": "hackerrank",
   "language": "python",
   "name": "hackerrank"
  },
  "language_info": {
   "codemirror_mode": {
    "name": "ipython",
    "version": 3
   },
   "file_extension": ".py",
   "mimetype": "text/x-python",
   "name": "python",
   "nbconvert_exporter": "python",
   "pygments_lexer": "ipython3",
   "version": "3.9.12"
  }
 },
 "nbformat": 4,
 "nbformat_minor": 5
}
