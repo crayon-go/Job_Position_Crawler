{
 "cells": [
  {
   "cell_type": "code",
   "execution_count": 4,
   "id": "40b494e9",
   "metadata": {},
   "outputs": [],
   "source": [
    "import requests\n",
    "import time\n",
    "import json\n",
    "import threading\n",
    "import queue\n",
    "import random\n",
    "import datetime\n",
    "import os\n",
    "import urllib3\n",
    "import pickle\n",
    "import re\n",
    "\n",
    "from urllib.error import URLError, HTTPError\n",
    "from bs4 import BeautifulSoup\n",
    "from collections import defaultdict\n",
    "from pprint import pprint\n",
    "from config.assistant import *\n",
    "from config.site_config import *\n",
    "from tqdm import tqdm\n",
    "\n",
    "urllib3.disable_warnings(urllib3.exceptions.InsecureRequestWarning)"
   ]
  },
  {
   "cell_type": "markdown",
   "id": "493f164e",
   "metadata": {},
   "source": [
    "### 연결 확인 (200, 400)"
   ]
  },
  {
   "cell_type": "code",
   "execution_count": 2,
   "id": "45e56321",
   "metadata": {},
   "outputs": [
    {
     "name": "stdout",
     "output_type": "stream",
     "text": [
      "<Response [200]>\n"
     ]
    }
   ],
   "source": [
    "import requests\n",
    "search_link = 'https://www.naver.com/'\n",
    "response = requests.get(search_link)\n",
    "print(response)"
   ]
  },
  {
   "cell_type": "markdown",
   "id": "dcaa73ab",
   "metadata": {},
   "source": [
    "### JSON 파일 불러오기"
   ]
  },
  {
   "cell_type": "code",
   "execution_count": 5,
   "id": "76d7fa07",
   "metadata": {},
   "outputs": [
    {
     "name": "stdout",
     "output_type": "stream",
     "text": [
      "5935\n"
     ]
    }
   ],
   "source": [
    "# JSON 파일 불러오기\n",
    "file_path = \"config/job_group.json\"\n",
    "with open(file_path, 'r') as file:\n",
    "    job_group = json.load(file)\n",
    "print(len(job_group))"
   ]
  },
  {
   "cell_type": "markdown",
   "id": "d16689ec",
   "metadata": {},
   "source": [
    "### 채용공고 리스트 확인"
   ]
  },
  {
   "cell_type": "code",
   "execution_count": 14,
   "id": "ced41c7b",
   "metadata": {},
   "outputs": [
    {
     "name": "stdout",
     "output_type": "stream",
     "text": [
      "[EY한영] 컨설팅본부 Data & Analytics팀 컨설턴트 모집\n",
      "[EY한영] 컨설팅본부 각 부문 인턴 상시모집\n",
      "[EY한영] 유통/커머스 산업 경력 컨설턴트 및 시스템 설계자\n",
      "[EY컨설팅] 컨설팅본부 Data & Analytics팀 (데이터 전략 및 3개 포지션) 경력 컨설턴트 모집\n",
      "[EY한영] 컨설팅본부 Data & Analytics팀 컨설턴트 모집 (Senior - Manger)\n",
      "[EY컨설팅] 컨설팅본부 AI (Artificial Intelligence)팀 컨설턴트 모집\n",
      "[EY컨설팅] 컨설팅본부 유통/커머스 산업 경력 컨설턴트 및 시스템 설계자 모집\n",
      "[EY한영] 금융컨설팅본부 Data & Analytics팀 경력 컨설턴트 모집\n",
      "[EY컨설팅] 컨설팅본부 AI(Artificial Intelligence)팀 컨설턴트\n",
      "---------------------\n",
      "9\n"
     ]
    }
   ],
   "source": [
    "company_name = \"ㄹ\"\n",
    "for i in job_group[company_name]:\n",
    "    print(i['title'])\n",
    "print(\"---------------------\")\n",
    "print(len(job_group[company_name]))"
   ]
  },
  {
   "cell_type": "code",
   "execution_count": null,
   "id": "57c2acdb",
   "metadata": {},
   "outputs": [],
   "source": []
  }
 ],
 "metadata": {
  "kernelspec": {
   "display_name": "hackerrank",
   "language": "python",
   "name": "hackerrank"
  },
  "language_info": {
   "codemirror_mode": {
    "name": "ipython",
    "version": 3
   },
   "file_extension": ".py",
   "mimetype": "text/x-python",
   "name": "python",
   "nbconvert_exporter": "python",
   "pygments_lexer": "ipython3",
   "version": "3.9.12"
  }
 },
 "nbformat": 4,
 "nbformat_minor": 5
}
