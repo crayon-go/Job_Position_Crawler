{
 "cells": [
  {
   "cell_type": "code",
   "execution_count": 4,
   "id": "40b494e9",
   "metadata": {},
   "outputs": [],
   "source": [
    "import requests\n",
    "import time\n",
    "import json\n",
    "import threading\n",
    "import queue\n",
    "import random\n",
    "import datetime\n",
    "import os\n",
    "import urllib3\n",
    "import pickle\n",
    "import re\n",
    "\n",
    "from urllib.error import URLError, HTTPError\n",
    "from bs4 import BeautifulSoup\n",
    "from collections import defaultdict\n",
    "from pprint import pprint\n",
    "from config.assistant import *\n",
    "from config.site_config import *\n",
    "from tqdm import tqdm\n",
    "\n",
    "urllib3.disable_warnings(urllib3.exceptions.InsecureRequestWarning)"
   ]
  },
  {
   "cell_type": "markdown",
   "id": "493f164e",
   "metadata": {},
   "source": [
    "### 연결 확인 (200, 400)"
   ]
  },
  {
   "cell_type": "code",
   "execution_count": 2,
   "id": "45e56321",
   "metadata": {},
   "outputs": [
    {
     "name": "stdout",
     "output_type": "stream",
     "text": [
      "<Response [200]>\n"
     ]
    }
   ],
   "source": [
    "import requests\n",
    "search_link = 'https://www.naver.com/'\n",
    "response = requests.get(search_link)\n",
    "print(response)"
   ]
  },
  {
   "cell_type": "markdown",
   "id": "3b2d3e64",
   "metadata": {},
   "source": [
    "### JSON 파일 불러오기"
   ]
  },
  {
   "cell_type": "code",
   "execution_count": 5,
   "id": "2affb458",
   "metadata": {},
   "outputs": [
    {
     "name": "stdout",
     "output_type": "stream",
     "text": [
      "5935\n"
     ]
    }
   ],
   "source": [
    "# JSON 파일 불러오기\n",
    "file_path = \"config/job_group.json\"\n",
    "with open(file_path, 'r') as file:\n",
    "    job_group = json.load(file)\n",
    "print(len(job_group))"
   ]
  },
  {
   "cell_type": "markdown",
   "id": "2248d933",
   "metadata": {},
   "source": [
    "### 채용공고 리스트 확인"
   ]
  },
  {
   "cell_type": "code",
   "execution_count": 11,
   "id": "ced41c7b",
   "metadata": {},
   "outputs": [
    {
     "name": "stdout",
     "output_type": "stream",
     "text": [
      "반도체 장비 설비개발 엔지니어 경력직 모집\n",
      "Data Science 경력 채용\n",
      "반도체 장비 부품개발(Heater설계) 경력자 채용\n",
      "2022년 하반기 신입박사 채용(연구개발-SW 개발)\n",
      "2022년 하반기 신입박사 채용(연구개발-Data Science)\n",
      "2022년 하반기 신입박사 채용(연구개발-Simulation)\n",
      "2022년 하반기 신입박사 채용(연구개발-공정개발(신제품개발 3그룹))\n",
      "2022년 하반기 신입박사 채용(연구개발-공정개발 (신제품개발 2그룹))\n",
      "2022년 하반기 신입박사 채용(연구개발-공정개발(CVD개발팀))\n",
      "2022년 하반기 대졸 공채(품질-품질관리)\n",
      "2022년 하반기 대졸 공채(영업-부품영업(해외))\n",
      "2022년 하반기 대졸 공채(연구기획-연구관리)\n",
      "2022년 하반기 대졸 공채(연구기획-기술기획)\n",
      "2022년 하반기 대졸 공채(연구개발-SW 개발)\n",
      "2022년 하반기 대졸 공채(연구개발-Data Science)\n",
      "2022년 하반기 대졸 공채(연구개발-Simulation)\n",
      "2022년 하반기 대졸 공채(연구개발-RF/플라즈마)\n",
      "2022년 하반기 대졸 공채(연구개발-부품개발)\n",
      "2022년 하반기 대졸 공채(연구개발-기구설계)\n",
      "2022년 하반기 대졸 공채(연구개발-공정개발)\n",
      "---------------------\n",
      "20\n"
     ]
    }
   ],
   "source": [
    "for i in job_group['원익아이피에스']:\n",
    "    print(i['title'])\n",
    "print(\"---------------------\")\n",
    "print(len(job_group['원익아이피에스']))"
   ]
  },
  {
   "cell_type": "code",
   "execution_count": null,
   "id": "1c4c234f",
   "metadata": {},
   "outputs": [],
   "source": []
  }
 ],
 "metadata": {
  "kernelspec": {
   "display_name": "hackerrank",
   "language": "python",
   "name": "hackerrank"
  },
  "language_info": {
   "codemirror_mode": {
    "name": "ipython",
    "version": 3
   },
   "file_extension": ".py",
   "mimetype": "text/x-python",
   "name": "python",
   "nbconvert_exporter": "python",
   "pygments_lexer": "ipython3",
   "version": "3.9.12"
  }
 },
 "nbformat": 4,
 "nbformat_minor": 5
}
