{
 "cells": [
  {
   "cell_type": "code",
   "execution_count": 4,
   "id": "40b494e9",
   "metadata": {},
   "outputs": [],
   "source": [
    "import requests\n",
    "import time\n",
    "import json\n",
    "import threading\n",
    "import queue\n",
    "import random\n",
    "import datetime\n",
    "import os\n",
    "import urllib3\n",
    "import pickle\n",
    "import re\n",
    "\n",
    "from urllib.error import URLError, HTTPError\n",
    "from bs4 import BeautifulSoup\n",
    "from lxml import etree\n",
    "from collections import defaultdict\n",
    "from pprint import pprint\n",
    "from config.assistant import *\n",
    "from config.site_config import *\n",
    "from tqdm import tqdm\n",
    "\n",
    "urllib3.disable_warnings(urllib3.exceptions.InsecureRequestWarning)\n",
    "\n",
    "request_headers = {\n",
    "    'User-Agent': ('Mozilla/5.0 (Windows NT 10.0; Win64; x64) AppleWebKit/537.36 '\n",
    "                   '(KHTML, like Gecko) Chrome/68.0.3440.75 Safari/537.36'),\n",
    "}"
   ]
  },
  {
   "cell_type": "markdown",
   "id": "493f164e",
   "metadata": {},
   "source": [
    "### 연결 확인 (200, 400)"
   ]
  },
  {
   "cell_type": "code",
   "execution_count": 2,
   "id": "45e56321",
   "metadata": {},
   "outputs": [
    {
     "name": "stdout",
     "output_type": "stream",
     "text": [
      "<Response [200]>\n"
     ]
    }
   ],
   "source": [
    "import requests\n",
    "search_link = 'https://www.naver.com/'\n",
    "response = requests.get(search_link)\n",
    "print(response)"
   ]
  },
  {
   "cell_type": "markdown",
   "id": "9f92c967",
   "metadata": {},
   "source": [
    "### JSON 파일 불러오기"
   ]
  },
  {
   "cell_type": "code",
   "execution_count": 5,
   "id": "663b3c3d",
   "metadata": {},
   "outputs": [
    {
     "name": "stdout",
     "output_type": "stream",
     "text": [
      "5935\n"
     ]
    }
   ],
   "source": [
    "# JSON 파일 불러오기\n",
    "file_path = \"config/job_group.json\"\n",
    "with open(file_path, 'r') as file:\n",
    "    job_group = json.load(file)\n",
    "print(len(job_group))"
   ]
  },
  {
   "cell_type": "markdown",
   "id": "911baee8",
   "metadata": {},
   "source": [
    "### 채용공고 리스트 확인"
   ]
  },
  {
   "cell_type": "code",
   "execution_count": 15,
   "id": "ced41c7b",
   "metadata": {},
   "outputs": [
    {
     "name": "stdout",
     "output_type": "stream",
     "text": [
      "[리콘랩스] 컴퓨터비전 석박사 및 경력직 연구원 모집\n",
      "[리콘랩스] 백엔드 개발자 및 AI 엔지니어 모집\n",
      "[리콘랩스] 총무 담당자 및 B2B Sales Manager 모집\n",
      "[리콘랩스] 사업개발 담당자 경력 모집\n",
      "[리콘랩스] 제품 사진/영상 촬영 및 업무지원 담당자 모집\n",
      "[리콘랩스] 테크 부문(백엔드/AI 엔지니어) 신입 및 경력 모집\n",
      "[리콘랩스] 총무 담당자 인턴 및 경력 모집\n",
      "[리콘랩스] 그래픽 디자이너 경력 모집\n",
      "[리콘랩스] B2B Sales Manager 신입 및 경력 모집\n",
      "[리콘랩스] 총무 담당자(Office Manager) 모집\n",
      "[리콘랩스] AI 엔지니어 모집\n",
      "[리콘랩스] AI 엔지니어 신입 및 경력 모집\n",
      "---------------------\n",
      "12\n"
     ]
    }
   ],
   "source": [
    "company_name = \"리콘랩스\"\n",
    "for i in job_group[company_name]:\n",
    "    print(i['title'])\n",
    "print(\"---------------------\")\n",
    "print(len(job_group[company_name]))"
   ]
  },
  {
   "cell_type": "code",
   "execution_count": null,
   "id": "3f1003fe",
   "metadata": {},
   "outputs": [],
   "source": []
  }
 ],
 "metadata": {
  "kernelspec": {
   "display_name": "hackerrank",
   "language": "python",
   "name": "hackerrank"
  },
  "language_info": {
   "codemirror_mode": {
    "name": "ipython",
    "version": 3
   },
   "file_extension": ".py",
   "mimetype": "text/x-python",
   "name": "python",
   "nbconvert_exporter": "python",
   "pygments_lexer": "ipython3",
   "version": "3.9.12"
  }
 },
 "nbformat": 4,
 "nbformat_minor": 5
}
