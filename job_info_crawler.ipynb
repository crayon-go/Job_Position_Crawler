{
 "cells": [
  {
   "cell_type": "code",
   "execution_count": 1,
   "id": "efc08c0f",
   "metadata": {
    "vscode": {
     "languageId": "plaintext"
    }
   },
   "outputs": [],
   "source": [
    "import requests\n",
    "import time\n",
    "import json\n",
    "import threading\n",
    "import queue\n",
    "import random\n",
    "import datetime\n",
    "import os\n",
    "import urllib3\n",
    "import pickle\n",
    "import re\n",
    "\n",
    "from urllib.error import URLError, HTTPError\n",
    "from bs4 import BeautifulSoup\n",
    "from collections import defaultdict\n",
    "from pprint import pprint\n",
    "from config.assistant import *\n",
    "\n",
    "urllib3.disable_warnings(urllib3.exceptions.InsecureRequestWarning)"
   ]
  },
  {
   "cell_type": "code",
   "execution_count": 2,
   "id": "07f7721a",
   "metadata": {},
   "outputs": [],
   "source": [
    "search_words = [\"컴퓨터비전\", 'COMPUTER VISION',\n",
    "                \"영상처리\", \"IMAGE PROCESSING\",\n",
    "                \"딥러닝\", \"DEEP LEARNING\", \n",
    "                \"머신러닝\", \"MACHINE LEARNING\",\n",
    "                \"이미지인식\", \"IMAGE RECOGNITION\",\n",
    "                \"이미지분석\", \"IMAGE ANALYSIS\",\n",
    "                \"VISION AI\",\n",
    "                \"OPENCV\"\n",
    "               ]\n",
    "\n",
    "search_words = [\"이미지인식\"]\n",
    "base_link_saram = 'https://www.saramin.co.kr'\n",
    "base_link_korea = 'https://www.jobkorea.co.kr'\n",
    "\n",
    "job_group = {}"
   ]
  },
  {
   "cell_type": "code",
   "execution_count": 3,
   "id": "0f630935",
   "metadata": {},
   "outputs": [],
   "source": [
    "def save_dictionary(job_company, company_link, job_posting, posting_link):\n",
    "    global job_group\n",
    "    \n",
    "    # 신규 회사명 인입\n",
    "    if not job_company in job_group:    \n",
    "        job_group[job_company] = []\n",
    "    \n",
    "    for company in job_group[job_company]:\n",
    "        if company['title'] == job_posting:    # 채용공고명 - 중복\n",
    "            break\n",
    "    else:\n",
    "        job_group[job_company].append({'company': job_company, \\\n",
    "                                       'company_link': company_link, \\\n",
    "                                       'title': job_posting, \\\n",
    "                                       'title_link': posting_link, \\\n",
    "                                       'input_date': datetime.date.today().isoformat(), \\\n",
    "                                       'status': 'wait'\n",
    "                                      })\n",
    "    return None"
   ]
  },
  {
   "cell_type": "markdown",
   "id": "af43b062",
   "metadata": {},
   "source": [
    "### 잡코리아"
   ]
  },
  {
   "cell_type": "code",
   "execution_count": 6,
   "id": "eff33be7",
   "metadata": {},
   "outputs": [
    {
     "name": "stdout",
     "output_type": "stream",
     "text": [
      "대기업\n",
      "중소기업\n",
      "대기업\n",
      "국내비영리단체·협회·교육재단\n",
      "국내비영리단체·협회·교육재단\n",
      "국내비영리단체·협회·교육재단\n",
      "이미지인식: 144\n",
      "Elapsed time is 5.786570310592651 seconds.\n"
     ]
    }
   ],
   "source": [
    "# 잡코리아\n",
    "# 저장된 키워드 별 검색\n",
    "\n",
    "tic()\n",
    "for search_word in search_words:\n",
    "\n",
    "    item_count = 0\n",
    "    current_page = 1\n",
    "    \n",
    "    # 검색 결과 리스트 페이지 별 확인\n",
    "    search_loop = True\n",
    "    while(search_loop):\n",
    "        search_link = f'https://www.jobkorea.co.kr/Search/' \\\n",
    "                    +f'?stext={search_word}' \\\n",
    "                    +f'&tabType=recruit&Page_No={current_page}'\n",
    "\n",
    "        response = requests.get(search_link, verify=False)\n",
    "        html = response.text\n",
    "        soup = BeautifulSoup(html, 'html.parser')\n",
    "\n",
    "        page_items = len(soup.find_all('a', attrs={'class': 'title dev_view'}))\n",
    "        \n",
    "        if page_items == 0:\n",
    "            search_loop = False\n",
    "        else:\n",
    "            for i in range(0, page_items):\n",
    "                # 회사명\n",
    "                job_company = soup.find_all('a', attrs={'class': 'name dev_view'})[i].text\n",
    "                company_re = re.search('\\(.*\\)', job_company)\n",
    "                if company_re:\n",
    "                    str_filtering = job_company[company_re.span()[0]:company_re.span()[1]]\n",
    "                    job_company = job_company.replace(str_filtering, '')\n",
    "                job_company = job_company.replace('㈜', '')\n",
    "                job_company = job_company.replace('㈔', '')\n",
    "                job_company = job_company.replace('재)', '')\n",
    "                job_company = job_company.replace('주)', '')\n",
    "                job_company = job_company.replace(' ', '')\n",
    "                job_company = job_company.replace('\\n', '')\n",
    "                if job_company in company_filtering_list:\n",
    "                    continue\n",
    "                    \n",
    "                # 회사 링크\n",
    "                company_link = base_link_korea + soup.find_all('a', attrs={'class': 'name dev_view'})[i]['href']\n",
    "                \n",
    "                # 채용공고\n",
    "                job_posting = soup.find_all('a', attrs={'class': 'title dev_view'})[i].text\n",
    "                job_posting = job_posting.replace('\\r\\n', '')\n",
    "                job_posting = job_posting.strip()\n",
    "\n",
    "                # 채용공고 링크\n",
    "                posting_link = base_link_korea + soup.find_all('a', attrs={'class': 'title dev_view'})[i]['href']\n",
    "\n",
    "                # Dictionary에 저장\n",
    "                save_dictionary(job_company, company_link, job_posting, posting_link)\n",
    "                \n",
    "                item_count += 1\n",
    "        current_page += 1\n",
    "    print(f'{search_word}: {item_count}')\n",
    "toc()"
   ]
  },
  {
   "cell_type": "code",
   "execution_count": 7,
   "id": "50559ca7",
   "metadata": {},
   "outputs": [
    {
     "data": {
      "text/plain": [
       "100"
      ]
     },
     "execution_count": 7,
     "metadata": {},
     "output_type": "execute_result"
    }
   ],
   "source": [
    "len(job_group)"
   ]
  },
  {
   "cell_type": "code",
   "execution_count": 8,
   "id": "81c00a08",
   "metadata": {},
   "outputs": [
    {
     "name": "stdout",
     "output_type": "stream",
     "text": [
      "144\n"
     ]
    }
   ],
   "source": [
    "nCnt = 0\n",
    "for i in job_group:\n",
    "    for j in job_group[i]:\n",
    "        nCnt += 1\n",
    "print(nCnt)"
   ]
  },
  {
   "cell_type": "markdown",
   "id": "18a2fc98",
   "metadata": {},
   "source": [
    "### 사람인"
   ]
  },
  {
   "cell_type": "code",
   "execution_count": null,
   "id": "2ed8a7e6",
   "metadata": {},
   "outputs": [],
   "source": [
    "# 사람인 검색 옵션\n",
    "# searchType=search\n",
    "# searchword=컴퓨터비전         # 검색어\n",
    "# loc_mcd=101000,102000         # 지역, 101000(서울),102000(경기)\n",
    "# company_cd=0,1,2,3,4,5,6,7    # 채용제공구분 / 9(파견/대행), 10(헤드헌팅)\n",
    "# search_optional_item=y\n",
    "# search_done=y\n",
    "# panel_count=y\n",
    "# recruitPage=1                 # 현재 페이지뷰\n",
    "# recruitSort=relation          # 정렬방법\n",
    "# recruitPageCount=100          # 표시 개수\n",
    "# inner_com_type=\n",
    "# show_applied=                 # 지원한 공고 표시\n",
    "# quick_apply=                  # 빠른 입사지원\n",
    "# except_read=                  # 조회한 페이지 제외\n",
    "# ai_head_hunting=\n",
    "# mainSearch=n"
   ]
  },
  {
   "cell_type": "code",
   "execution_count": 4,
   "id": "94a62c74",
   "metadata": {
    "scrolled": false
   },
   "outputs": [
    {
     "name": "stdout",
     "output_type": "stream",
     "text": [
      "이미지인식: 211\n",
      "Elapsed time is 12.18005084991455 seconds.\n"
     ]
    }
   ],
   "source": [
    "# 사람인\n",
    "# 저장된 키워드 별 검색\n",
    "\n",
    "page_view_items = 100\n",
    "company_cd='0,1,2,3,4,5,6,7'\n",
    "tic()\n",
    "for search_word in search_words:\n",
    "\n",
    "    item_count = 0\n",
    "    current_page = 1\n",
    "    \n",
    "    # 검색 결과 리스트 페이지 별 확인\n",
    "    search_loop = True\n",
    "    while(search_loop):\n",
    "        search_link = f'https://www.saramin.co.kr/zf_user/search/recruit'\\\n",
    "            + f'?search_area=main'\\\n",
    "            + f'&search_done=y'\\\n",
    "            + f'&search_optional_item=n'\\\n",
    "            + f'&searchType=search'\\\n",
    "            + f'&recruitSort=relation'\\\n",
    "            + f'&searchword={search_word}'\\\n",
    "            + f'&recruitPage={current_page}'\\\n",
    "            + f'&recruitPageCount={page_view_items}'\\\n",
    "            + f'&company_cd={company_cd}'\\\n",
    "            + f'&mainSearch=y'\n",
    "\n",
    "        response = requests.get(search_link, verify=False)\n",
    "        html = response.text\n",
    "        soup = BeautifulSoup(html, 'html.parser')\n",
    "\n",
    "        if len(soup.find_all('div', attrs={'class': 'info_no_result'})) == 1:\n",
    "            search_loop = False\n",
    "        else:\n",
    "            current_page += 1\n",
    "\n",
    "            page_items = len(soup.find_all('h2', attrs={'class': 'job_tit'}))\n",
    "\n",
    "            # 해당 페이지 리스트 (1 ~ 100)\n",
    "            for i in range(1, page_items+1):\n",
    "                elements = soup.select(f'div.content > div:nth-child({i})')[0]\n",
    "\n",
    "                # 채용공고명\n",
    "                job_posting = elements.find('a', attrs={'class': 'data_layer'})['title']\n",
    "\n",
    "                # 회사명\n",
    "                job_company = elements.find('a', attrs={'class': 'track_event data_layer'}).text\n",
    "                \n",
    "                company_re = re.search('\\(.*\\)', job_company)\n",
    "                if company_re:\n",
    "                    str_filtering = job_company[company_re.span()[0]:company_re.span()[1]]\n",
    "                    job_company = job_company.replace(str_filtering, '')\n",
    "                job_company = job_company.replace('㈜', '')\n",
    "                job_company = job_company.replace('㈔', '')\n",
    "                job_company = job_company.replace('재)', '')\n",
    "                job_company = job_company.replace('주)', '')\n",
    "                job_company = job_company.replace(' ', '')\n",
    "                job_company = job_company.replace('\\n', '')\n",
    "                if job_company in company_filtering_list:\n",
    "                    continue\n",
    "                    \n",
    "                # 채용공고 링크\n",
    "                posting_link = base_link_saram + elements.find('a', attrs={'class': 'data_layer'})['href']\n",
    "\n",
    "                # 회사 링크\n",
    "                company_link = base_link_saram + elements.find('a', attrs={'class': 'track_event data_layer'})['href']\n",
    "\n",
    "                # Dictionary에 저장\n",
    "                save_dictionary(job_company, company_link, job_posting, posting_link)\n",
    "                \n",
    "                \n",
    "                item_count += 1\n",
    "                \n",
    "    print(f'{search_word}: {item_count}')\n",
    "toc()"
   ]
  },
  {
   "cell_type": "code",
   "execution_count": 5,
   "id": "46110c54",
   "metadata": {},
   "outputs": [
    {
     "data": {
      "text/plain": [
       "147"
      ]
     },
     "execution_count": 5,
     "metadata": {},
     "output_type": "execute_result"
    }
   ],
   "source": [
    "len(job_group)"
   ]
  },
  {
   "cell_type": "code",
   "execution_count": 6,
   "id": "ab2b8786",
   "metadata": {},
   "outputs": [
    {
     "name": "stdout",
     "output_type": "stream",
     "text": [
      "211\n"
     ]
    }
   ],
   "source": [
    "nCnt = 0\n",
    "for i in job_group:\n",
    "    for j in job_group[i]:\n",
    "        nCnt += 1\n",
    "print(nCnt)"
   ]
  },
  {
   "cell_type": "code",
   "execution_count": null,
   "id": "48f72e71",
   "metadata": {},
   "outputs": [],
   "source": []
  },
  {
   "cell_type": "code",
   "execution_count": 37,
   "id": "061b6b35",
   "metadata": {
    "scrolled": false
   },
   "outputs": [],
   "source": [
    "# JSON 파일 쓰기\n",
    "file_path = \"config/job_group.json\"\n",
    "tf = open(file_path, 'w')\n",
    "json.dump(job_group, tf)\n",
    "tf.close()"
   ]
  },
  {
   "cell_type": "code",
   "execution_count": 2,
   "id": "996ed0a4",
   "metadata": {},
   "outputs": [],
   "source": [
    "# JSON 파일 불러오기\n",
    "file_path = \"config/job_group.json\"\n",
    "with open(file_path, 'r') as file:\n",
    "    job_group = json.load(file)\n",
    "print(len(job_group))"
   ]
  },
  {
   "cell_type": "code",
   "execution_count": null,
   "id": "095c0ce6",
   "metadata": {},
   "outputs": [],
   "source": []
  },
  {
   "cell_type": "code",
   "execution_count": null,
   "id": "810ef672",
   "metadata": {},
   "outputs": [],
   "source": []
  },
  {
   "cell_type": "code",
   "execution_count": null,
   "id": "b2932403",
   "metadata": {},
   "outputs": [],
   "source": []
  },
  {
   "cell_type": "code",
   "execution_count": 5,
   "id": "347d4576",
   "metadata": {},
   "outputs": [],
   "source": [
    "company_filtering_list = [\"학원\", \"자산\", \"교육센터\", \"...\", \n",
    "                          \"중소기업(300명이하)\",\n",
    "                          \"벤처기업\",\n",
    "                          \"중견기업(300명이상)\",\n",
    "                          \"대기업계열사·자회사\",\n",
    "                          \"외국계기업\",\n",
    "                          \"대기업\",\n",
    "                          \"중소기업\",\n",
    "                          \"매출수조원하는물류기업\",\n",
    "                          \"전기전자대기업\",\n",
    "                          \"머신러닝기반의비전기술개발전문기업\",\n",
    "                          \"150명이상의스타트업\",\n",
    "                          \"유망AI솔루션기업\",\n",
    "                          \"초우량벤처기업\",\n",
    "                          \"메타버스/AR서비스기업\",\n",
    "                          \"영상진단솔루션전문기업\",\n",
    "                          \"코스닥상장sw기업\",\n",
    "                          \"코스닥상장사\",\n",
    "                          \"[국내유망데이터솔류션개발업체]\",\n",
    "                          \"국내대기업전자자동차전장사업부\",\n",
    "                          \"국내비영리단체·협회·교육재단\",\n",
    "                          \"현대CAD디자인직업전문학교\"\n",
    "                          ]"
   ]
  },
  {
   "cell_type": "code",
   "execution_count": null,
   "id": "22f0f214",
   "metadata": {},
   "outputs": [],
   "source": []
  }
 ],
 "metadata": {
  "kernelspec": {
   "display_name": "hackerrank",
   "language": "python",
   "name": "hackerrank"
  },
  "language_info": {
   "codemirror_mode": {
    "name": "ipython",
    "version": 3
   },
   "file_extension": ".py",
   "mimetype": "text/x-python",
   "name": "python",
   "nbconvert_exporter": "python",
   "pygments_lexer": "ipython3",
   "version": "3.9.12"
  }
 },
 "nbformat": 4,
 "nbformat_minor": 5
}
