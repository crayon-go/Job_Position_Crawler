{
 "cells": [
  {
   "cell_type": "code",
   "execution_count": 1,
   "id": "efc08c0f",
   "metadata": {
    "vscode": {
     "languageId": "plaintext"
    }
   },
   "outputs": [],
   "source": [
    "import requests\n",
    "import time\n",
    "import json\n",
    "import threading\n",
    "import queue\n",
    "import random\n",
    "import datetime\n",
    "import os\n",
    "import urllib3\n",
    "import pickle\n",
    "\n",
    "from urllib.error import URLError, HTTPError\n",
    "from bs4 import BeautifulSoup\n",
    "from collections import defaultdict\n",
    "from pprint import pprint\n",
    "from config.assistant import *\n",
    "\n",
    "urllib3.disable_warnings(urllib3.exceptions.InsecureRequestWarning)"
   ]
  },
  {
   "cell_type": "code",
   "execution_count": 2,
   "id": "07f7721a",
   "metadata": {},
   "outputs": [],
   "source": [
    "search_words = [\"컴퓨터비전\", 'COMPUTER VISION',\n",
    "                \"영상처리\", \"IMAGE PROCESSING\",\n",
    "                \"딥러닝\", \"DEEP LEARNING\", \n",
    "                \"머신러닝\", \"MACHINE LEARNING\",\n",
    "                \"이미지인식\", \"IMAGE RECOGNITION\",\n",
    "                \"이미지분석\", \"IMAGE ANALYSIS\",\n",
    "                \"VISION AI\",\n",
    "                \"OPENCV\"\n",
    "               ]\n",
    "\n",
    "# search_words = [\"이미지인식\"]\n",
    "base_link_saram = 'https://www.saramin.co.kr'\n",
    "base_link_korea = 'https://www.jobkorea.co.kr'\n",
    "\n",
    "job_group = {}\n"
   ]
  },
  {
   "cell_type": "code",
   "execution_count": 5,
   "id": "eff33be7",
   "metadata": {},
   "outputs": [
    {
     "name": "stdout",
     "output_type": "stream",
     "text": [
      "컴퓨터비전: 1155\n",
      "COMPUTER VISION: 132\n",
      "영상처리: 1362\n",
      "IMAGE PROCESSING: 74\n",
      "딥러닝: 1264\n",
      "DEEP LEARNING: 245\n",
      "머신러닝: 2091\n",
      "MACHINE LEARNING: 2094\n",
      "이미지인식: 147\n",
      "IMAGE RECOGNITION: 21\n",
      "이미지분석: 2328\n",
      "IMAGE ANALYSIS: 31\n",
      "VISION AI: 269\n",
      "OPENCV: 175\n",
      "Elapsed time is 534.7085440158844 seconds.\n"
     ]
    }
   ],
   "source": [
    "# 잡코리아\n",
    "# 저장된 키워드 별 검색\n",
    "tic()\n",
    "for search_word in search_words:\n",
    "\n",
    "    item_count = 0\n",
    "    current_page = 1\n",
    "    \n",
    "    # 검색 결과 리스트 페이지 별 확인\n",
    "    search_loop = True\n",
    "    while(search_loop):\n",
    "        search_link = f'https://www.jobkorea.co.kr/Search/' \\\n",
    "                    +f'?stext={search_word}' \\\n",
    "                    +f'&tabType=recruit&Page_No={current_page}'\n",
    "\n",
    "        response = requests.get(search_link, verify=False)\n",
    "        html = response.text\n",
    "        soup = BeautifulSoup(html, 'html.parser')\n",
    "\n",
    "        page_items = len(soup.find_all('a', attrs={'class': 'title dev_view'}))\n",
    "        \n",
    "        if page_items == 0:\n",
    "            search_loop = False\n",
    "        else:\n",
    "            for i in range(0, page_items):\n",
    "\n",
    "                \n",
    "                # 회사명\n",
    "                job_company = soup.find_all('a', attrs={'class': 'name dev_view'})[i].text\n",
    "                job_company = job_company.replace('(주)', '')\n",
    "                job_company = job_company.replace('(유)', '')\n",
    "                job_company = job_company.replace('(재)', '')\n",
    "                job_company = job_company.replace('㈜', '')\n",
    "                job_company = job_company.replace(' ', '')\n",
    "                \n",
    "                # 회사 링크\n",
    "                company_link = base_link_korea + soup.find_all('a', attrs={'class': 'name dev_view'})[i]['href']\n",
    "                \n",
    "                # 채용공고\n",
    "                job_posting = soup.find_all('a', attrs={'class': 'title dev_view'})[i].text\n",
    "                job_posting = job_posting.replace('\\r\\n', '')\n",
    "                job_posting = job_posting.strip()\n",
    "\n",
    "                # 채용공고 링크\n",
    "                posting_link = base_link_korea + soup.find_all('a', attrs={'class': 'title dev_view'})[i]['href']\n",
    "\n",
    "                # Dictionary에 저장\n",
    "                if job_company in job_group:    # 회사명 - 기존에 있으면\n",
    "                    for company in job_group[job_company]:\n",
    "                        if company['title'] == job_posting:    # 채용공고명 - 기존에 있으면\n",
    "                            break\n",
    "                    else:\n",
    "                        job_group[job_company].append({'company': job_company, \\\n",
    "                                                       'company_link': company_link, \\\n",
    "                                                       'title': job_posting, \\\n",
    "                                                       'title_link': posting_link, \\\n",
    "                                                       'input_date': datetime.date.today().isoformat(), \\\n",
    "                                                       'status': 'wait'\n",
    "                                                      })\n",
    "\n",
    "                else:    # 회사명 - 신규진입\n",
    "                    job_group[job_company] = []\n",
    "                    job_group[job_company].append({'company': job_company, \\\n",
    "                                                   'company_link': company_link, \\\n",
    "                                                   'title': job_posting, \\\n",
    "                                                   'title_link': posting_link, \\\n",
    "                                                   'input_date': datetime.date.today().isoformat(), \\\n",
    "                                                   'status': 'wait'\n",
    "                                                  })\n",
    "                \n",
    "                item_count += 1\n",
    "        current_page += 1\n",
    "    print(f'{search_word}: {item_count}')\n",
    "toc()"
   ]
  },
  {
   "cell_type": "code",
   "execution_count": 6,
   "id": "50559ca7",
   "metadata": {},
   "outputs": [
    {
     "data": {
      "text/plain": [
       "4861"
      ]
     },
     "execution_count": 6,
     "metadata": {},
     "output_type": "execute_result"
    }
   ],
   "source": [
    "len(job_group)"
   ]
  },
  {
   "cell_type": "code",
   "execution_count": null,
   "id": "dca2955d",
   "metadata": {},
   "outputs": [],
   "source": []
  },
  {
   "cell_type": "code",
   "execution_count": null,
   "id": "0343eff5",
   "metadata": {},
   "outputs": [],
   "source": []
  },
  {
   "cell_type": "code",
   "execution_count": null,
   "id": "66e320a0",
   "metadata": {},
   "outputs": [],
   "source": []
  },
  {
   "cell_type": "code",
   "execution_count": null,
   "id": "6647fc15",
   "metadata": {},
   "outputs": [],
   "source": []
  },
  {
   "cell_type": "code",
   "execution_count": null,
   "id": "53c71147",
   "metadata": {},
   "outputs": [],
   "source": []
  },
  {
   "cell_type": "code",
   "execution_count": null,
   "id": "5b8ac887",
   "metadata": {},
   "outputs": [],
   "source": []
  },
  {
   "cell_type": "code",
   "execution_count": null,
   "id": "df3a315f",
   "metadata": {},
   "outputs": [],
   "source": []
  },
  {
   "cell_type": "code",
   "execution_count": null,
   "id": "31014efa",
   "metadata": {},
   "outputs": [],
   "source": []
  },
  {
   "cell_type": "code",
   "execution_count": null,
   "id": "0415a4a6",
   "metadata": {},
   "outputs": [],
   "source": []
  },
  {
   "cell_type": "code",
   "execution_count": null,
   "id": "4463ffb7",
   "metadata": {},
   "outputs": [],
   "source": []
  },
  {
   "cell_type": "code",
   "execution_count": null,
   "id": "af1a7ec9",
   "metadata": {},
   "outputs": [],
   "source": []
  },
  {
   "cell_type": "code",
   "execution_count": null,
   "id": "169d0337",
   "metadata": {},
   "outputs": [],
   "source": []
  },
  {
   "cell_type": "code",
   "execution_count": null,
   "id": "4325c077",
   "metadata": {},
   "outputs": [],
   "source": []
  },
  {
   "cell_type": "code",
   "execution_count": null,
   "id": "2ed8a7e6",
   "metadata": {},
   "outputs": [],
   "source": [
    "# 사람인 검색 옵션\n",
    "# searchType=search\n",
    "# searchword=컴퓨터비전         # 검색어\n",
    "# loc_mcd=101000,102000         # 지역, 101000(서울),102000(경기)\n",
    "# company_cd=0,1,2,3,4,5,6,7    # 채용제공구분 / 9(파견/대행), 10(헤드헌팅)\n",
    "# search_optional_item=y\n",
    "# search_done=y\n",
    "# panel_count=y\n",
    "# recruitPage=1                 # 현재 페이지뷰\n",
    "# recruitSort=relation          # 정렬방법\n",
    "# recruitPageCount=100          # 표시 개수\n",
    "# inner_com_type=\n",
    "# show_applied=                 # 지원한 공고 표시\n",
    "# quick_apply=                  # 빠른 입사지원\n",
    "# except_read=                  # 조회한 페이지 제외\n",
    "# ai_head_hunting=\n",
    "# mainSearch=n"
   ]
  },
  {
   "cell_type": "code",
   "execution_count": 3,
   "id": "94a62c74",
   "metadata": {
    "scrolled": false
   },
   "outputs": [
    {
     "name": "stdout",
     "output_type": "stream",
     "text": [
      "컴퓨터비전: 1173\n",
      "COMPUTER VISION: 1023\n",
      "영상처리: 1042\n",
      "IMAGE PROCESSING: 286\n",
      "딥러닝: 1198\n",
      "DEEP LEARNING: 1198\n",
      "머신러닝: 1478\n",
      "MACHINE LEARNING: 1472\n",
      "이미지인식: 207\n",
      "IMAGE RECOGNITION: 13\n",
      "이미지분석: 709\n",
      "IMAGE ANALYSIS: 26\n",
      "VISION AI: 692\n",
      "OPENCV: 232\n",
      "Elapsed time is 619.6665525436401 seconds.\n"
     ]
    }
   ],
   "source": [
    "# 사람인\n",
    "# 저장된 키워드 별 검색\n",
    "\n",
    "page_view_items = 100\n",
    "company_cd='0,1,2,3,4,5,6,7'\n",
    "tic()\n",
    "for search_word in search_words:\n",
    "\n",
    "    item_count = 0\n",
    "    current_page = 1\n",
    "    \n",
    "    # 검색 결과 리스트 페이지 별 확인\n",
    "    search_loop = True\n",
    "    while(search_loop):\n",
    "        search_link = f'https://www.saramin.co.kr/zf_user/search/recruit'\\\n",
    "            + f'?search_area=main'\\\n",
    "            + f'&search_done=y'\\\n",
    "            + f'&search_optional_item=n'\\\n",
    "            + f'&searchType=search'\\\n",
    "            + f'&recruitSort=relation'\\\n",
    "            + f'&searchword={search_word}'\\\n",
    "            + f'&recruitPage={current_page}'\\\n",
    "            + f'&recruitPageCount={page_view_items}'\\\n",
    "            + f'&company_cd={company_cd}'\\\n",
    "            + f'&mainSearch=y'\n",
    "\n",
    "        response = requests.get(search_link, verify=False)\n",
    "        html = response.text\n",
    "        soup = BeautifulSoup(html, 'html.parser')\n",
    "\n",
    "        if len(soup.find_all('div', attrs={'class': 'info_no_result'})) == 1:\n",
    "            search_loop = False\n",
    "        else:\n",
    "            current_page += 1\n",
    "\n",
    "            page_items = len(soup.find_all('h2', attrs={'class': 'job_tit'}))\n",
    "\n",
    "            # 해당 페이지 리스트 (1 ~ 100)\n",
    "            for i in range(1, page_items+1):\n",
    "                elements = soup.select(f'div.content > div:nth-child({i})')[0]\n",
    "\n",
    "                # 채용공고명\n",
    "                job_posting = elements.find('a', attrs={'class': 'data_layer'})['title']\n",
    "\n",
    "                # 회사명\n",
    "                try:\n",
    "                    job_company1 = elements.find('a', attrs={'class': 'track_event data_layer'}).text\n",
    "                    job_company2 = job_company1.replace(' ', '')\n",
    "                    job_company3 = job_company2.replace('\\n', '')\n",
    "                    job_company = job_company3.replace('(주)', '')\n",
    "                except:\n",
    "                    print(job_company1)\n",
    "                    print(job_company2)\n",
    "                    print(job_company3)\n",
    "                    print(job_company)\n",
    "\n",
    "                # 채용공고 링크\n",
    "                posting_link = base_link_saram + elements.find('a', attrs={'class': 'data_layer'})['href']\n",
    "\n",
    "                # 회사 링크\n",
    "                company_link = base_link_saram + elements.find('a', attrs={'class': 'track_event data_layer'})['href']\n",
    "\n",
    "                # Dictionary에 저장\n",
    "                if job_company in job_group:    # 회사명 - 기존에 있으면\n",
    "                    for company in job_group[job_company]:\n",
    "                        if company['title'] == job_posting:    # 채용공고명 - 기존에 있으면\n",
    "                            break\n",
    "                    else:\n",
    "                        job_group[job_company].append({'company': job_company, \\\n",
    "                                                       'company_link': company_link, \\\n",
    "                                                       'title': job_posting, \\\n",
    "                                                       'title_link': posting_link, \\\n",
    "                                                       'input_date': datetime.date.today().isoformat(), \\\n",
    "                                                       'status': 'wait'\n",
    "                                                      })\n",
    "\n",
    "                else:    # 회사명 - 신규진입\n",
    "                    job_group[job_company] = []\n",
    "                    job_group[job_company].append({'company': job_company, \\\n",
    "                                                   'company_link': company_link, \\\n",
    "                                                   'title': job_posting, \\\n",
    "                                                   'title_link': posting_link, \\\n",
    "                                                   'input_date': datetime.date.today().isoformat(), \\\n",
    "                                                   'status': 'wait'\n",
    "                                                  })\n",
    "\n",
    "                item_count += 1\n",
    "                \n",
    "    print(f'{search_word}: {item_count}')\n",
    "toc()"
   ]
  },
  {
   "cell_type": "code",
   "execution_count": null,
   "id": "46110c54",
   "metadata": {},
   "outputs": [],
   "source": []
  },
  {
   "cell_type": "code",
   "execution_count": null,
   "id": "ab2b8786",
   "metadata": {},
   "outputs": [],
   "source": []
  },
  {
   "cell_type": "code",
   "execution_count": null,
   "id": "48f72e71",
   "metadata": {},
   "outputs": [],
   "source": []
  },
  {
   "cell_type": "code",
   "execution_count": 7,
   "id": "061b6b35",
   "metadata": {
    "scrolled": false
   },
   "outputs": [],
   "source": [
    "# JSON 파일 쓰기\n",
    "file_path = \"config/job_group.json\"\n",
    "\n",
    "tf = open(file_path, 'w')\n",
    "json.dump(job_group, tf)\n",
    "tf.close()"
   ]
  },
  {
   "cell_type": "code",
   "execution_count": 2,
   "id": "996ed0a4",
   "metadata": {},
   "outputs": [],
   "source": [
    "# JSON 파일 불러오기\n",
    "file_path = \"config/job_group.json\"\n",
    "with open(file_path, 'r') as file:\n",
    "    job_group = json.load(file)\n",
    "print(len(job_group))"
   ]
  }
 ],
 "metadata": {
  "kernelspec": {
   "display_name": "hackerrank",
   "language": "python",
   "name": "hackerrank"
  },
  "language_info": {
   "codemirror_mode": {
    "name": "ipython",
    "version": 3
   },
   "file_extension": ".py",
   "mimetype": "text/x-python",
   "name": "python",
   "nbconvert_exporter": "python",
   "pygments_lexer": "ipython3",
   "version": "3.9.12"
  }
 },
 "nbformat": 4,
 "nbformat_minor": 5
}
