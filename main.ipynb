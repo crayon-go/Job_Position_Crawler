{
 "cells": [
  {
   "cell_type": "code",
   "execution_count": null,
   "id": "efc08c0f",
   "metadata": {
    "vscode": {
     "languageId": "plaintext"
    }
   },
   "outputs": [],
   "source": [
    "import requests\n",
    "import time\n",
    "import json\n",
    "import selenium.webdriver.support.ui as ui\n",
    "from selenium.webdriver.common.keys import Keys\n",
    "import threading\n",
    "import queue\n",
    "import random\n",
    "import datetime\n",
    "import pyperclip\n",
    "\n",
    "from urllib.error import URLError, HTTPError\n",
    "from selenium import webdriver\n",
    "from selenium.webdriver.chrome.options import Options\n",
    "from selenium.webdriver.remote.webelement import WebElement\n",
    "from selenium.webdriver.common.keys import Keys\n",
    "from selenium.webdriver import ActionChains\n",
    "from pprint import pprint\n",
    "from selenium.webdriver.common.alert import Alert\n",
    "from config.site_config import *\n"
   ]
  },
  {
   "cell_type": "code",
   "execution_count": null,
   "id": "7436d156",
   "metadata": {
    "vscode": {
     "languageId": "plaintext"
    }
   },
   "outputs": [],
   "source": [
    "DRIVER_PATH = './config/chromedriver'\n",
    "CHROME_OPTIONS = Options()\n",
    "\n",
    "#driver.implicitly_wait(3)"
   ]
  },
  {
   "cell_type": "code",
   "execution_count": null,
   "id": "62565ce1",
   "metadata": {},
   "outputs": [],
   "source": [
    "def jk_update():\n",
    "\n",
    "    driver = webdriver.Chrome(executable_path=DRIVER_PATH)\n",
    "    driver.maximize_window()\n",
    "    driver.get(jk_dict['url_login'])\n",
    "\n",
    "    # 로그인\n",
    "    driver.find_element_by_xpath(jk_dict['cursor']).click()                     # 커서 활성화\n",
    "    driver.find_element_by_name(jk_dict['tag_id']).send_keys(jk_dict['my_id'])  # ID\n",
    "    driver.find_element_by_name(jk_dict['tag_pw']).send_keys(jk_dict['my_pw'])  # PW\n",
    "    driver.find_element_by_xpath(jk_dict['click_login']).click()                # 로그인 클릭\n",
    "\n",
    "    # 이력서 페이지 이동\n",
    "    driver.get(jk_dict['resume_page'])\n",
    "\n",
    "    # 업데이트 클릭\n",
    "    driver.find_element_by_xpath(jk_dict['click_event']).click()\n",
    "    time.sleep(1)\n",
    "    \n",
    "    # 팝업창 엔터\n",
    "    da = Alert(driver)\n",
    "    da.accept()\n",
    "    \n",
    "    # 종료\n",
    "    time.sleep(3)\n",
    "    driver.close()"
   ]
  },
  {
   "cell_type": "code",
   "execution_count": null,
   "id": "afd3476f",
   "metadata": {},
   "outputs": [],
   "source": [
    "def saramin_update():\n",
    "    \n",
    "    driver = webdriver.Chrome(executable_path=DRIVER_PATH)\n",
    "    driver.maximize_window()\n",
    "    driver.get(saramin_dict['url_login'])\n",
    "\n",
    "    # 로그인\n",
    "    driver.find_element_by_xpath(saramin_dict['cursor']).click()                          # 커서 활성화\n",
    "    driver.find_element_by_name(saramin_dict['tag_id']).send_keys(saramin_dict['my_id'])  # ID\n",
    "    driver.find_element_by_name(saramin_dict['tag_pw']).send_keys(saramin_dict['my_pw'])  # PW\n",
    "    driver.find_element_by_xpath(saramin_dict['click_login']).click()                     # 로그인 클릭\n",
    "\n",
    "    # 이력서 페이지 이동, 수정, 저장\n",
    "    driver.get(saramin_dict['resume_page'])\n",
    "    driver.find_element_by_xpath(saramin_dict['edit_page']).click()\n",
    "    driver.find_element_by_xpath(saramin_dict['save']).click()\n",
    "\n",
    "    # 종료\n",
    "    time.sleep(3)\n",
    "    driver.close()"
   ]
  },
  {
   "cell_type": "code",
   "execution_count": null,
   "id": "43b3b723",
   "metadata": {},
   "outputs": [],
   "source": [
    "while(1):\n",
    "    nowtime = datetime.datetime.now()    # datetime.datetime(2022, 5, 28, 11, 36, 6, 452198)\n",
    "    #print(nowtime)\n",
    "    \n",
    "    try:\n",
    "        # 하루 초기화\n",
    "        if (nowtime.strftime('%H%M') == time_reset):\n",
    "            print(f\"{nowtime.strftime(f'%Y-%m-%d, %H:%M:%S')} >> RESET\")\n",
    "            b_jk_run = False\n",
    "            b_saramin_run = False\n",
    "\n",
    "        # 잡코리아\n",
    "        if (nowtime.strftime('%H%M') == time_jk_run) and not bool_jk_run:\n",
    "            print(f\"{nowtime.strftime(f'%Y-%m-%d, %H:%M:%S')} >> JK UPDATE\")\n",
    "            jk_update()\n",
    "            bool_jk_run = True\n",
    "\n",
    "        # 사람인\n",
    "        if (nowtime.strftime('%H%M') == time_saramin_run) and not bool_saramin_run:\n",
    "            print(f\"{nowtime.strftime(f'%Y-%m-%d, %H:%M:%S')} >> SARAMIN UPDATE\")\n",
    "            saramin_update()\n",
    "            bool_saramin_run = True\n",
    "    except:\n",
    "        print(f\"{nowtime.strftime(f'%Y-%m-%d, %H:%M:%S')} >> ERROR\")\n",
    "        \n",
    "    time.sleep(0.1)\n"
   ]
  }
 ],
 "metadata": {
  "kernelspec": {
   "display_name": "hackerrank",
   "language": "python",
   "name": "hackerrank"
  },
  "language_info": {
   "codemirror_mode": {
    "name": "ipython",
    "version": 3
   },
   "file_extension": ".py",
   "mimetype": "text/x-python",
   "name": "python",
   "nbconvert_exporter": "python",
   "pygments_lexer": "ipython3",
   "version": "3.9.12"
  }
 },
 "nbformat": 4,
 "nbformat_minor": 5
}
