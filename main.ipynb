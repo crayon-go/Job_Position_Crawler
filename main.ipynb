{
 "cells": [
  {
   "cell_type": "code",
   "execution_count": 2,
   "id": "efc08c0f",
   "metadata": {
    "vscode": {
     "languageId": "plaintext"
    }
   },
   "outputs": [],
   "source": [
    "import requests\n",
    "import time\n",
    "import json\n",
    "import threading\n",
    "import queue\n",
    "import random\n",
    "import datetime\n",
    "import os\n",
    "import urllib3\n",
    "\n",
    "from urllib.error import URLError, HTTPError\n",
    "from bs4 import BeautifulSoup\n",
    "from collections import defaultdict\n",
    "from pprint import pprint\n",
    "\n",
    "from config.assistant import *\n",
    "\n",
    "urllib3.disable_warnings(urllib3.exceptions.InsecureRequestWarning)\n",
    "#from config.site_config import *"
   ]
  },
  {
   "cell_type": "code",
   "execution_count": 2,
   "id": "6d8af324",
   "metadata": {},
   "outputs": [],
   "source": [
    "# searchType=search\n",
    "# searchword=컴퓨터비전         # 검색어\n",
    "# loc_mcd=101000,102000         # 지역, 101000(서울),102000(경기)\n",
    "# company_cd=0,1,2,3,4,5,6,7    # 채용제공구분 / 9(파견/대행), 10(헤드헌팅)\n",
    "# search_optional_item=y\n",
    "# search_done=y\n",
    "# panel_count=y\n",
    "# recruitPage=1                 # 현재 페이지뷰\n",
    "# recruitSort=relation          # 정렬방법\n",
    "# recruitPageCount=100          # 표시 개수\n",
    "# inner_com_type=\n",
    "# show_applied=                 # 지원한 공고 표시\n",
    "# quick_apply=                  # 빠른 입사지원\n",
    "# except_read=                  # 조회한 페이지 제외\n",
    "# ai_head_hunting=\n",
    "# mainSearch=n"
   ]
  },
  {
   "cell_type": "code",
   "execution_count": 3,
   "id": "07f7721a",
   "metadata": {},
   "outputs": [],
   "source": [
    "search_words = [\"컴퓨터비전\", 'COMPUTER VISION',\n",
    "                \"영상처리\", \"IMAGE PROCESSING\",\n",
    "                \"딥러닝\", \"DEEP LEARNING\", \n",
    "                \"머신러닝\", \"MACHINE LEARNING\",\n",
    "                \"이미지인식\", \"IMAGE RECOGNITION\",\n",
    "                \"이미지분석\", \"IMAGE ANALYSIS\",\n",
    "                \"VISION AI\",\n",
    "                \"OPENCV\"\n",
    "               ]\n",
    "\n",
    "# search_words = [\"이미지인식\", \"이미지분석\"]\n",
    "page_view_items = 100\n",
    "company_cd='0,1,2,3,4,5,6,7'\n",
    "base_link = 'https://www.saramin.co.kr'\n",
    "job_group = {}\n"
   ]
  },
  {
   "cell_type": "code",
   "execution_count": 4,
   "id": "94a62c74",
   "metadata": {
    "scrolled": false
   },
   "outputs": [
    {
     "name": "stdout",
     "output_type": "stream",
     "text": [
      "컴퓨터비전: 1120\n",
      "Elapsed time is 95.84467911720276 seconds.\n",
      "COMPUTER VISION: 964\n",
      "Elapsed time is 81.77384281158447 seconds.\n",
      "영상처리: 1037\n",
      "Elapsed time is 91.63178586959839 seconds.\n",
      "IMAGE PROCESSING: 295\n",
      "Elapsed time is 26.112196683883667 seconds.\n",
      "딥러닝: 1158\n",
      "Elapsed time is 100.3155210018158 seconds.\n",
      "DEEP LEARNING: 1158\n",
      "Elapsed time is 99.07968306541443 seconds.\n",
      "머신러닝: 1450\n",
      "Elapsed time is 122.66391611099243 seconds.\n",
      "MACHINE LEARNING: 1445\n",
      "Elapsed time is 123.3249671459198 seconds.\n",
      "이미지인식: 222\n",
      "Elapsed time is 20.000678777694702 seconds.\n",
      "IMAGE RECOGNITION: 12\n",
      "Elapsed time is 2.2892861366271973 seconds.\n",
      "이미지분석: 714\n",
      "Elapsed time is 62.77639722824097 seconds.\n",
      "IMAGE ANALYSIS: 21\n",
      "Elapsed time is 2.4867708683013916 seconds.\n",
      "VISION AI: 657\n",
      "Elapsed time is 55.909586906433105 seconds.\n",
      "OPENCV: 232\n",
      "Elapsed time is 19.707900047302246 seconds.\n"
     ]
    }
   ],
   "source": [
    "\n",
    "# 저장된 키워드 별 검색\n",
    "for search_word in search_words:\n",
    "    tic()\n",
    "    item_count = 0\n",
    "    current_page = 1\n",
    "    \n",
    "    # 검색 결과 리스트 페이지 별 확인\n",
    "    search_loop = True\n",
    "    while(search_loop):\n",
    "        search_link = f'https://www.saramin.co.kr/zf_user/search/recruit'\\\n",
    "            + f'?search_area=main'\\\n",
    "            + f'&search_done=y'\\\n",
    "            + f'&search_optional_item=n'\\\n",
    "            + f'&searchType=search'\\\n",
    "            + f'&recruitSort=relation'\\\n",
    "            + f'&searchword={search_word}'\\\n",
    "            + f'&recruitPage={current_page}'\\\n",
    "            + f'&recruitPageCount={page_view_items}'\\\n",
    "            + f'&company_cd={company_cd}'\\\n",
    "            + f'&mainSearch=y'\n",
    "\n",
    "        response = requests.get(search_link, verify=False)\n",
    "        html = response.text\n",
    "        soup = BeautifulSoup(html, 'html.parser')\n",
    "\n",
    "        if len(soup.find_all('div', attrs={'class': 'info_no_result'})) == 1:\n",
    "            search_loop = False\n",
    "        else:\n",
    "            current_page += 1\n",
    "\n",
    "            page_items = len(soup.find_all('h2', attrs={'class': 'job_tit'}))\n",
    "\n",
    "            # 해당 페이지 리스트 (1 ~ 100)\n",
    "            for i in range(1, page_items+1):\n",
    "                elements = soup.select(f'div.content > div:nth-child({i})')[0]\n",
    "\n",
    "                # 채용공고명\n",
    "                str_title = elements.find('a', attrs={'class': 'data_layer'})['title']\n",
    "\n",
    "                # 회사명\n",
    "                try:\n",
    "                    str_company1 = elements.find('a', attrs={'class': 'track_event data_layer'}).text\n",
    "                    #str_company = str_company.replace(' ', '').replace('\\n', '').replace('(주)', '')\n",
    "                    str_company2 = str_company1.replace(' ', '')\n",
    "                    str_company3 = str_company2.replace('\\n', '')\n",
    "                    str_company = str_company3.replace('(주)', '')\n",
    "                except:\n",
    "                    print(str_company1)\n",
    "                    print(str_company2)\n",
    "                    print(str_company3)\n",
    "                    print(str_company)\n",
    "\n",
    "                # 채용공고 링크\n",
    "                str_title_link = base_link + elements.find('a', attrs={'class': 'data_layer'})['href']\n",
    "\n",
    "                # 회사 링크\n",
    "                str_company_link = base_link + elements.find('a', attrs={'class': 'track_event data_layer'})['href']\n",
    "\n",
    "                # Dictionary에 저장\n",
    "                if str_company in job_group:    # 회사명 - 기존에 있으면\n",
    "                    for company in job_group[str_company]:\n",
    "                        if company['title'] == str_title:    # 채용공고명 - 기존에 있으면\n",
    "                            break\n",
    "                    else:\n",
    "                        job_group[str_company].append({'title': str_title, \\\n",
    "                                                       'title_link': str_title_link, \\\n",
    "                                                       'company_link': str_company_link \\\n",
    "                                                       'input_date': datetime.date.today().isoformat()\\\n",
    "                                                      })\n",
    "\n",
    "                else:    # 회사명 - 신규진입\n",
    "                    job_group[str_company] = []\n",
    "                    job_group[str_company].append({'title': str_title, \\\n",
    "                                                   'title_link': str_title_link, \\\n",
    "                                                   'company_link': str_company_link \\\n",
    "                                                   'input_date': datetime.date.today().isoformat()\\\n",
    "                                                  })\n",
    "\n",
    "                item_count += 1\n",
    "                \n",
    "    print(f'{search_word}: {item_count}')\n",
    "    toc()"
   ]
  },
  {
   "cell_type": "code",
   "execution_count": 5,
   "id": "d4fe133a",
   "metadata": {},
   "outputs": [
    {
     "data": {
      "text/plain": [
       "2259"
      ]
     },
     "execution_count": 5,
     "metadata": {},
     "output_type": "execute_result"
    }
   ],
   "source": [
    "len(job_group)"
   ]
  },
  {
   "cell_type": "code",
   "execution_count": null,
   "id": "702ad92f",
   "metadata": {},
   "outputs": [],
   "source": [
    "머신러닝: 1450\n",
    "MACHINE LEARNING: 1445\n",
    "딥러닝: 1158\n",
    "DEEP LEARNING: 1158\n",
    "컴퓨터비전: 1120\n",
    "영상처리: 1037\n",
    "COMPUTER VISION: 964\n",
    "이미지분석: 714\n",
    "VISION AI: 657\n",
    "IMAGE PROCESSING: 295\n",
    "OPENCV: 232\n",
    "이미지인식: 222\n",
    "IMAGE ANALYSIS: 21\n",
    "IMAGE RECOGNITION: 12"
   ]
  },
  {
   "cell_type": "code",
   "execution_count": null,
   "id": "061b6b35",
   "metadata": {},
   "outputs": [],
   "source": [
    "9365\n",
    "job_group 2259\n"
   ]
  },
  {
   "cell_type": "code",
   "execution_count": null,
   "id": "461025fd",
   "metadata": {},
   "outputs": [],
   "source": []
  },
  {
   "cell_type": "code",
   "execution_count": null,
   "id": "6f9e2397",
   "metadata": {},
   "outputs": [],
   "source": []
  },
  {
   "cell_type": "code",
   "execution_count": null,
   "id": "a19fdee6",
   "metadata": {},
   "outputs": [],
   "source": []
  },
  {
   "cell_type": "code",
   "execution_count": null,
   "id": "0432bd79",
   "metadata": {},
   "outputs": [],
   "source": []
  },
  {
   "cell_type": "code",
   "execution_count": null,
   "id": "d76aff8e",
   "metadata": {},
   "outputs": [],
   "source": []
  }
 ],
 "metadata": {
  "kernelspec": {
   "display_name": "hackerrank",
   "language": "python",
   "name": "hackerrank"
  },
  "language_info": {
   "codemirror_mode": {
    "name": "ipython",
    "version": 3
   },
   "file_extension": ".py",
   "mimetype": "text/x-python",
   "name": "python",
   "nbconvert_exporter": "python",
   "pygments_lexer": "ipython3",
   "version": "3.8.13"
  }
 },
 "nbformat": 4,
 "nbformat_minor": 5
}
