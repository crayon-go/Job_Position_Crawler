{
 "cells": [
  {
   "cell_type": "code",
   "execution_count": 1,
   "id": "efc08c0f",
   "metadata": {
    "vscode": {
     "languageId": "plaintext"
    }
   },
   "outputs": [],
   "source": [
    "import requests\n",
    "import time\n",
    "import json\n",
    "import threading\n",
    "import queue\n",
    "import random\n",
    "import datetime\n",
    "import os\n",
    "import urllib3\n",
    "\n",
    "from urllib.error import URLError, HTTPError\n",
    "from bs4 import BeautifulSoup\n",
    "from collections import defaultdict\n",
    "from pprint import pprint\n",
    "\n",
    "from config.assistant import *\n",
    "\n",
    "urllib3.disable_warnings(urllib3.exceptions.InsecureRequestWarning)\n",
    "#from config.site_config import *"
   ]
  },
  {
   "cell_type": "code",
   "execution_count": 2,
   "id": "6d8af324",
   "metadata": {},
   "outputs": [],
   "source": [
    "# searchType=search\n",
    "# searchword=컴퓨터비전         # 검색어\n",
    "# loc_mcd=101000,102000         # 지역, 101000(서울),102000(경기)\n",
    "# company_cd=0,1,2,3,4,5,6,7    # 채용제공구분 / 9(파견/대행), 10(헤드헌팅)\n",
    "# search_optional_item=y\n",
    "# search_done=y\n",
    "# panel_count=y\n",
    "# recruitPage=1                 # 현재 페이지뷰\n",
    "# recruitSort=relation          # 정렬방법\n",
    "# recruitPageCount=100          # 표시 개수\n",
    "# inner_com_type=\n",
    "# show_applied=                 # 지원한 공고 표시\n",
    "# quick_apply=                  # 빠른 입사지원\n",
    "# except_read=                  # 조회한 페이지 제외\n",
    "# ai_head_hunting=\n",
    "# mainSearch=n"
   ]
  },
  {
   "cell_type": "code",
   "execution_count": 3,
   "id": "024a0cf7",
   "metadata": {},
   "outputs": [],
   "source": [
    "search_word = [\"컴퓨터비전\", \"OPENCV\"]\n",
    "recruit_page = 1\n",
    "recruit_page_count = 100\n",
    "company_cd='0,1,2,3,4,5,6,7'"
   ]
  },
  {
   "cell_type": "code",
   "execution_count": 4,
   "id": "e6ee6c9b",
   "metadata": {},
   "outputs": [
    {
     "data": {
      "text/plain": [
       "'https://www.saramin.co.kr/zf_user/search/recruit?search_area=main&search_done=y&search_optional_item=n&searchType=search&recruitSort=relation&searchword=컴퓨터비전&recruitPage=1&recruitPageCount=100&company_cd=0,1,2,3,4,5,6,7&mainSearch=y'"
      ]
     },
     "execution_count": 4,
     "metadata": {},
     "output_type": "execute_result"
    }
   ],
   "source": [
    "search_link = 'https://www.saramin.co.kr/zf_user/search/recruit\\\n",
    "?search_area=main\\\n",
    "&search_done=y\\\n",
    "&search_optional_item=n\\\n",
    "&searchType=search\\\n",
    "&recruitSort=relation\\\n",
    "&searchword={}\\\n",
    "&recruitPage={}\\\n",
    "&recruitPageCount={}\\\n",
    "&company_cd={}\\\n",
    "&mainSearch=y'.format(search_word[0], recruit_page, recruit_page_count, company_cd)\n",
    "search_link"
   ]
  },
  {
   "cell_type": "code",
   "execution_count": 5,
   "id": "227c6003",
   "metadata": {},
   "outputs": [],
   "source": [
    "response = requests.get(search_link, verify=False)\n",
    "html = response.text\n",
    "soup = BeautifulSoup(html, 'html.parser')"
   ]
  },
  {
   "cell_type": "code",
   "execution_count": 6,
   "id": "7cbf9bf3",
   "metadata": {
    "scrolled": true
   },
   "outputs": [
    {
     "name": "stdout",
     "output_type": "stream",
     "text": [
      "Elapsed time is 4.375982284545898 seconds.\n"
     ]
    }
   ],
   "source": [
    "base_link = 'https://www.saramin.co.kr'\n",
    "tic()\n",
    "\n",
    "for i in range(1, recruit_page_count+1):\n",
    "    elements = soup.select(f'div.content > div:nth-child({i})')[0]\n",
    "\n",
    "    str_title = elements.find('a', attrs={'class': 'data_layer'})['title']\n",
    "\n",
    "    str_company = elements.find('a', attrs={'class': 'track_event data_layer'}).string\n",
    "    str_company = str_company.replace(' ', '').replace('\\n', '').replace('(주)', '')\n",
    "\n",
    "    str_title_link = base_link + elements.find('a', attrs={'class': 'data_layer'})['href']\n",
    "\n",
    "    str_company_link = base_link + elements.find('a', attrs={'class': 'track_event data_layer'})['href']\n",
    "\n",
    "toc()\n",
    "\n"
   ]
  },
  {
   "cell_type": "code",
   "execution_count": null,
   "id": "a2cca681",
   "metadata": {},
   "outputs": [],
   "source": []
  },
  {
   "cell_type": "code",
   "execution_count": null,
   "id": "d577fe3e",
   "metadata": {},
   "outputs": [],
   "source": []
  },
  {
   "cell_type": "code",
   "execution_count": null,
   "id": "f525ad0b",
   "metadata": {},
   "outputs": [],
   "source": []
  },
  {
   "cell_type": "code",
   "execution_count": 13,
   "id": "3a9ac40f",
   "metadata": {},
   "outputs": [],
   "source": [
    "job_group = {}"
   ]
  },
  {
   "cell_type": "code",
   "execution_count": 14,
   "id": "c9c7dcc6",
   "metadata": {},
   "outputs": [],
   "source": [
    "job_company = \"회사_3\"\n",
    "job_title = \"제목_4\"\n",
    "title_link = '타이틀링크_1'\n",
    "company_link = '회사링크_1'"
   ]
  },
  {
   "cell_type": "code",
   "execution_count": 15,
   "id": "b948ca70",
   "metadata": {},
   "outputs": [
    {
     "name": "stdout",
     "output_type": "stream",
     "text": [
      "new entry\n"
     ]
    }
   ],
   "source": [
    "if job_company in job_group:    # 기존\n",
    "    b_exist = False\n",
    "    for company in job_group[job_company]:\n",
    "        if company['title'] == job_title:\n",
    "            b_exist = True\n",
    "            print(\"exist\")\n",
    "            break\n",
    "    if b_exist == True:\n",
    "        pass\n",
    "    else:\n",
    "        print(\"additional entry\")\n",
    "        job_group[job_company].append({'title': job_title, \\\n",
    "                                       'title_link': title_link, \\\n",
    "                                       'company_link': company_link \\\n",
    "                                      })\n",
    "    \n",
    "else:                           # 신규진입\n",
    "    print(\"new entry\")\n",
    "    job_group[job_company] = []\n",
    "    job_group[job_company].append({'title': job_title, \\\n",
    "                                   'title_link': title_link, \\\n",
    "                                   'company_link': company_link \\\n",
    "                                  })\n"
   ]
  },
  {
   "cell_type": "code",
   "execution_count": null,
   "id": "b617ad4a",
   "metadata": {},
   "outputs": [],
   "source": []
  }
 ],
 "metadata": {
  "kernelspec": {
   "display_name": "hackerrank",
   "language": "python",
   "name": "hackerrank"
  },
  "language_info": {
   "codemirror_mode": {
    "name": "ipython",
    "version": 3
   },
   "file_extension": ".py",
   "mimetype": "text/x-python",
   "name": "python",
   "nbconvert_exporter": "python",
   "pygments_lexer": "ipython3",
   "version": "3.9.12"
  }
 },
 "nbformat": 4,
 "nbformat_minor": 5
}
