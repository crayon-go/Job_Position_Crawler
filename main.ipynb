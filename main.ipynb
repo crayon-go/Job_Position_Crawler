{
 "cells": [
  {
   "cell_type": "code",
   "execution_count": 1,
   "id": "efc08c0f",
   "metadata": {
    "vscode": {
     "languageId": "plaintext"
    }
   },
   "outputs": [],
   "source": [
    "import requests\n",
    "import time\n",
    "import json\n",
    "import selenium.webdriver.support.ui as ui\n",
    "from selenium.webdriver.common.keys import Keys\n",
    "import threading\n",
    "import queue\n",
    "import random\n",
    "import datetime\n",
    "\n",
    "from urllib.error import URLError, HTTPError\n",
    "from selenium import webdriver\n",
    "from selenium.webdriver.chrome.options import Options\n",
    "from selenium.webdriver.remote.webelement import WebElement\n",
    "from selenium.webdriver.common.keys import Keys\n",
    "from selenium.webdriver import ActionChains\n",
    "from pprint import pprint\n",
    "from selenium.webdriver.common.alert import Alert\n",
    "from config.site_config import *"
   ]
  },
  {
   "cell_type": "code",
   "execution_count": 2,
   "id": "7436d156",
   "metadata": {
    "vscode": {
     "languageId": "plaintext"
    }
   },
   "outputs": [],
   "source": [
    "DRIVER_PATH = './config/chromedriver'\n",
    "CHROME_OPTIONS = Options()\n",
    "\n",
    "#driver.implicitly_wait(3)"
   ]
  },
  {
   "cell_type": "code",
   "execution_count": 3,
   "id": "9b740943",
   "metadata": {},
   "outputs": [
    {
     "name": "stderr",
     "output_type": "stream",
     "text": [
      "C:\\Users\\wnsdh\\AppData\\Local\\Temp\\ipykernel_14912\\3225127078.py:1: DeprecationWarning: executable_path has been deprecated, please pass in a Service object\n",
      "  driver = webdriver.Chrome(executable_path=DRIVER_PATH)\n"
     ]
    }
   ],
   "source": [
    "driver = webdriver.Chrome(executable_path=DRIVER_PATH)\n",
    "driver.maximize_window()\n",
    "driver.get(saramin_dict['url_main'])"
   ]
  },
  {
   "cell_type": "code",
   "execution_count": 4,
   "id": "af2467c2",
   "metadata": {},
   "outputs": [
    {
     "ename": "AttributeError",
     "evalue": "'WebDriver' object has no attribute 'find_element_by_xpath'",
     "output_type": "error",
     "traceback": [
      "\u001b[1;31m---------------------------------------------------------------------------\u001b[0m",
      "\u001b[1;31mAttributeError\u001b[0m                            Traceback (most recent call last)",
      "Input \u001b[1;32mIn [4]\u001b[0m, in \u001b[0;36m<cell line: 2>\u001b[1;34m()\u001b[0m\n\u001b[0;32m      1\u001b[0m \u001b[38;5;66;03m# 로그인\u001b[39;00m\n\u001b[1;32m----> 2\u001b[0m \u001b[43mdriver\u001b[49m\u001b[38;5;241;43m.\u001b[39;49m\u001b[43mfind_element_by_xpath\u001b[49m(saramin_dict[\u001b[38;5;124m'\u001b[39m\u001b[38;5;124mcursor\u001b[39m\u001b[38;5;124m'\u001b[39m])\u001b[38;5;241m.\u001b[39mclick()\n",
      "\u001b[1;31mAttributeError\u001b[0m: 'WebDriver' object has no attribute 'find_element_by_xpath'"
     ]
    }
   ],
   "source": [
    "# 로그인\n",
    "driver.find_element_by_xpath(saramin_dict['cursor']).click()                          # 커서 활성화"
   ]
  },
  {
   "cell_type": "code",
   "execution_count": 4,
   "id": "3f538765",
   "metadata": {},
   "outputs": [
    {
     "ename": "AttributeError",
     "evalue": "'WebDriver' object has no attribute 'find_element_by_xpath'",
     "output_type": "error",
     "traceback": [
      "\u001b[1;31m---------------------------------------------------------------------------\u001b[0m",
      "\u001b[1;31mAttributeError\u001b[0m                            Traceback (most recent call last)",
      "Input \u001b[1;32mIn [4]\u001b[0m, in \u001b[0;36m<cell line: 2>\u001b[1;34m()\u001b[0m\n\u001b[0;32m      1\u001b[0m \u001b[38;5;66;03m# 로그인\u001b[39;00m\n\u001b[1;32m----> 2\u001b[0m \u001b[43mdriver\u001b[49m\u001b[38;5;241;43m.\u001b[39;49m\u001b[43mfind_element_by_xpath\u001b[49m(saramin_dict[\u001b[38;5;124m'\u001b[39m\u001b[38;5;124mcursor\u001b[39m\u001b[38;5;124m'\u001b[39m])\u001b[38;5;241m.\u001b[39mclick()                          \u001b[38;5;66;03m# 커서 활성화\u001b[39;00m\n\u001b[0;32m      3\u001b[0m driver\u001b[38;5;241m.\u001b[39mfind_element_by_name(saramin_dict[\u001b[38;5;124m'\u001b[39m\u001b[38;5;124mtag_id\u001b[39m\u001b[38;5;124m'\u001b[39m])\u001b[38;5;241m.\u001b[39msend_keys(saramin_dict[\u001b[38;5;124m'\u001b[39m\u001b[38;5;124mmy_id\u001b[39m\u001b[38;5;124m'\u001b[39m])  \u001b[38;5;66;03m# ID\u001b[39;00m\n\u001b[0;32m      4\u001b[0m driver\u001b[38;5;241m.\u001b[39mfind_element_by_name(saramin_dict[\u001b[38;5;124m'\u001b[39m\u001b[38;5;124mtag_pw\u001b[39m\u001b[38;5;124m'\u001b[39m])\u001b[38;5;241m.\u001b[39msend_keys(saramin_dict[\u001b[38;5;124m'\u001b[39m\u001b[38;5;124mmy_pw\u001b[39m\u001b[38;5;124m'\u001b[39m])  \u001b[38;5;66;03m# PW\u001b[39;00m\n",
      "\u001b[1;31mAttributeError\u001b[0m: 'WebDriver' object has no attribute 'find_element_by_xpath'"
     ]
    }
   ],
   "source": [
    "\n",
    "driver.find_element_by_name(saramin_dict['tag_id']).send_keys(saramin_dict['my_id'])  # ID\n",
    "driver.find_element_by_name(saramin_dict['tag_pw']).send_keys(saramin_dict['my_pw'])  # PW\n",
    "driver.find_element_by_xpath(saramin_dict['click_login']).click()                     # 로그인 클릭\n"
   ]
  },
  {
   "cell_type": "code",
   "execution_count": null,
   "id": "afd3476f",
   "metadata": {},
   "outputs": [],
   "source": [
    "# 이력서 페이지 이동, 수정, 저장\n",
    "driver.get(saramin_dict['resume_page'])\n",
    "driver.find_element_by_xpath(saramin_dict['edit_page']).click()\n",
    "driver.find_element_by_xpath(saramin_dict['save']).click()\n",
    "\n",
    "# 종료\n",
    "time.sleep(3)\n",
    "driver.close()"
   ]
  },
  {
   "cell_type": "code",
   "execution_count": null,
   "id": "9cea06da",
   "metadata": {},
   "outputs": [],
   "source": [
    "https://www.saramin.co.kr/zf_user/search/recruit?searchType=search&searchword=개발자&loc_mcd=101000,102000&company_cd=0,1,2,3,4,5,6,7&panel_type=&search_optional_item=y&search_done=y&panel_count=y&recruitPage=1&recruitSort=relation&recruitPageCount=50&inner_com_type=&show_applied=&quick_apply=&except_read=&ai_head_hunting=&mainSearch=n\n",
    "\n",
    "searchword=검색어\n",
    "loc_mcd=지역\n",
    "company_cd=채용제공구분 / 9(파견/대행), 10(헤드헌팅)\n",
    "recruitPageCount = 페이지 뷰 수\n",
    "loc_mcd=지역\n",
    "\n",
    "searchword=개발자\n",
    "loc_mcd=101000,102000 (서울,경기)\n",
    "company_cd=0,1,2,3,4,5,6,7\n",
    "recruitPageCount=50\n",
    "loc_mcd=101000,102000"
   ]
  },
  {
   "cell_type": "code",
   "execution_count": null,
   "id": "6491affd",
   "metadata": {},
   "outputs": [],
   "source": []
  }
 ],
 "metadata": {
  "kernelspec": {
   "display_name": "hackerrank",
   "language": "python",
   "name": "hackerrank"
  },
  "language_info": {
   "codemirror_mode": {
    "name": "ipython",
    "version": 3
   },
   "file_extension": ".py",
   "mimetype": "text/x-python",
   "name": "python",
   "nbconvert_exporter": "python",
   "pygments_lexer": "ipython3",
   "version": "3.9.12"
  }
 },
 "nbformat": 4,
 "nbformat_minor": 5
}
