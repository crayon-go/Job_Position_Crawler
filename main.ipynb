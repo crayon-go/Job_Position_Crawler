{
 "cells": [
  {
   "cell_type": "code",
   "execution_count": 6,
   "id": "efc08c0f",
   "metadata": {
    "vscode": {
     "languageId": "plaintext"
    }
   },
   "outputs": [],
   "source": [
    "import requests\n",
    "import time\n",
    "import json\n",
    "import selenium.webdriver.support.ui as ui\n",
    "from selenium.webdriver.common.keys import Keys\n",
    "import threading\n",
    "import queue\n",
    "import random\n",
    "import datetime\n",
    "\n",
    "from urllib.error import URLError, HTTPError\n",
    "from selenium import webdriver\n",
    "from selenium.webdriver.chrome.options import Options\n",
    "from selenium.webdriver.remote.webelement import WebElement\n",
    "from selenium.webdriver.common.keys import Keys\n",
    "from selenium.webdriver import ActionChains\n",
    "from pprint import pprint\n",
    "from selenium.webdriver.common.alert import Alert\n",
    "from bs4 import BeautifulSoup\n",
    "#from config.site_config import *"
   ]
  },
  {
   "cell_type": "code",
   "execution_count": 7,
   "id": "7436d156",
   "metadata": {
    "vscode": {
     "languageId": "plaintext"
    }
   },
   "outputs": [],
   "source": [
    "DRIVER_PATH = './config/chromedriver'\n",
    "CHROME_OPTIONS = Options()\n",
    "\n",
    "#driver.implicitly_wait(3)"
   ]
  },
  {
   "cell_type": "code",
   "execution_count": 8,
   "id": "9b740943",
   "metadata": {},
   "outputs": [
    {
     "name": "stderr",
     "output_type": "stream",
     "text": [
      "/var/folders/37/07y8_bp17kj20xnw5dtdsmgm0000gn/T/ipykernel_77884/652209598.py:1: DeprecationWarning: executable_path has been deprecated, please pass in a Service object\n",
      "  driver = webdriver.Chrome(executable_path=DRIVER_PATH)\n"
     ]
    }
   ],
   "source": [
    "driver = webdriver.Chrome(executable_path=DRIVER_PATH)\n",
    "#driver.maximize_window()\n",
    "#driver.get('https://www.saramin.co.kr/')"
   ]
  },
  {
   "cell_type": "code",
   "execution_count": null,
   "id": "6d8af324",
   "metadata": {},
   "outputs": [],
   "source": [
    "# searchType=search\n",
    "# searchword=컴퓨터비전            # 검색어\n",
    "# loc_mcd=101000,102000         # 지역, 101000(서울),102000(경기)\n",
    "# company_cd=0,1,2,3,4,5,6,7    # 채용제공구분 / 9(파견/대행), 10(헤드헌팅)\n",
    "# search_optional_item=y\n",
    "# search_done=y\n",
    "# panel_count=y\n",
    "# recruitPage=1                 # 현재 페이지뷰\n",
    "# recruitSort=relation          # 정렬방법\n",
    "# recruitPageCount=100          # 표시 개수\n",
    "# inner_com_type=\n",
    "# show_applied=                 # 지원한 공고 표시\n",
    "# quick_apply=                  # 빠른 입사지원\n",
    "# except_read=                  # 조회한 페이지 제외\n",
    "# ai_head_hunting=\n",
    "# mainSearch=n"
   ]
  },
  {
   "cell_type": "code",
   "execution_count": 9,
   "id": "024a0cf7",
   "metadata": {},
   "outputs": [],
   "source": [
    "search_word = \"컴퓨터비전\"\n",
    "recruit_page = 1\n",
    "recruit_page_count = 100\n",
    "company_cd='0,1,2,3,4,5,6,7'"
   ]
  },
  {
   "cell_type": "code",
   "execution_count": 10,
   "id": "e6ee6c9b",
   "metadata": {},
   "outputs": [],
   "source": [
    "search_link = 'https://www.saramin.co.kr/zf_user/search/recruit\\\n",
    "?search_area=main\\\n",
    "&search_done=y\\\n",
    "&search_optional_item=n\\\n",
    "&searchType=search\\\n",
    "&recruitSort=relation\\\n",
    "&searchword={}\\\n",
    "&recruitPage={}\\\n",
    "&recruitPageCount={}\\\n",
    "&company_cd={}\\\n",
    "&mainSearch=y'.format(search_word, recruit_page, recruit_page_count, company_cd)"
   ]
  },
  {
   "cell_type": "code",
   "execution_count": 11,
   "id": "109871eb",
   "metadata": {},
   "outputs": [
    {
     "data": {
      "text/plain": [
       "'https://www.saramin.co.kr/zf_user/search/recruit?search_area=main&search_done=y&search_optional_item=n&searchType=search&recruitSort=relation&searchword=컴퓨터비전&recruitPage=1&recruitPageCount=100&company_cd=0,1,2,3,4,5,6,7&mainSearch=y'"
      ]
     },
     "execution_count": 11,
     "metadata": {},
     "output_type": "execute_result"
    }
   ],
   "source": [
    "search_link"
   ]
  },
  {
   "cell_type": "code",
   "execution_count": 12,
   "id": "f87de2e2",
   "metadata": {},
   "outputs": [],
   "source": [
    "driver.get(search_link)"
   ]
  },
  {
   "cell_type": "code",
   "execution_count": 13,
   "id": "00a5b5f7",
   "metadata": {},
   "outputs": [],
   "source": [
    "html = driver.page_source"
   ]
  },
  {
   "cell_type": "code",
   "execution_count": 14,
   "id": "852d1e3b",
   "metadata": {},
   "outputs": [],
   "source": [
    "soup = BeautifulSoup(html, 'html.parser')"
   ]
  },
  {
   "cell_type": "code",
   "execution_count": 89,
   "id": "c84a8e75",
   "metadata": {},
   "outputs": [],
   "source": [
    "# nth-chile (1~100)\n",
    "title = soup.select('div.content > div:nth-child(1) > div.area_job > h2 > a')\n",
    "company = soup.select('div.content > div:nth-child(1) > div.area_corp > strong > a')"
   ]
  },
  {
   "cell_type": "code",
   "execution_count": 90,
   "id": "57d7ddd8",
   "metadata": {},
   "outputs": [
    {
     "data": {
      "text/plain": [
       "'[주35H/재택/탄력] 컴퓨터비전, Embedded 개발자 (신입,병특)'"
      ]
     },
     "execution_count": 90,
     "metadata": {},
     "output_type": "execute_result"
    }
   ],
   "source": [
    "title[0]['title']"
   ]
  },
  {
   "cell_type": "code",
   "execution_count": 91,
   "id": "15a37090",
   "metadata": {},
   "outputs": [
    {
     "data": {
      "text/plain": [
       "<a class=\"track_event data_layer\" data-data_layer=\"recruit_com|com_name\" data-track_event=\"total_search|search_recruit|com_info_btn\" href=\"/zf_user/company-info/view?csn=aGRYbWRuMHlxV21kMTVNVjNCYWkxZz09\" target=\"_blank\">\n",
       "                            (주)에프에스솔루션                        </a>"
      ]
     },
     "execution_count": 91,
     "metadata": {},
     "output_type": "execute_result"
    }
   ],
   "source": [
    "company[0]"
   ]
  },
  {
   "cell_type": "code",
   "execution_count": 103,
   "id": "ee1148ad",
   "metadata": {},
   "outputs": [
    {
     "data": {
      "text/plain": [
       "'\\n                            (주)에프에스솔루션                        '"
      ]
     },
     "execution_count": 103,
     "metadata": {},
     "output_type": "execute_result"
    }
   ],
   "source": [
    "test_string = company[0].string\n",
    "test_string"
   ]
  },
  {
   "cell_type": "code",
   "execution_count": 105,
   "id": "223c4a14",
   "metadata": {},
   "outputs": [
    {
     "data": {
      "text/plain": [
       "'\\n(주)에프에스솔루션'"
      ]
     },
     "execution_count": 105,
     "metadata": {},
     "output_type": "execute_result"
    }
   ],
   "source": [
    "test_string = test_string.replace(' ', '')\n",
    "test_string"
   ]
  },
  {
   "cell_type": "code",
   "execution_count": 106,
   "id": "0d654fe6",
   "metadata": {},
   "outputs": [
    {
     "data": {
      "text/plain": [
       "'(주)에프에스솔루션'"
      ]
     },
     "execution_count": 106,
     "metadata": {},
     "output_type": "execute_result"
    }
   ],
   "source": [
    "test_string = test_string.replace('\\n', '')\n",
    "test_string"
   ]
  },
  {
   "cell_type": "code",
   "execution_count": null,
   "id": "76109462",
   "metadata": {},
   "outputs": [],
   "source": []
  },
  {
   "cell_type": "code",
   "execution_count": null,
   "id": "ec9bc983",
   "metadata": {},
   "outputs": [],
   "source": []
  }
 ],
 "metadata": {
  "kernelspec": {
   "display_name": "hackerrank",
   "language": "python",
   "name": "hackerrank"
  },
  "language_info": {
   "codemirror_mode": {
    "name": "ipython",
    "version": 3
   },
   "file_extension": ".py",
   "mimetype": "text/x-python",
   "name": "python",
   "nbconvert_exporter": "python",
   "pygments_lexer": "ipython3",
   "version": "3.8.13"
  }
 },
 "nbformat": 4,
 "nbformat_minor": 5
}
