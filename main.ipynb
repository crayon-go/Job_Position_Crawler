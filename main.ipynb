{
 "cells": [
  {
   "cell_type": "code",
   "execution_count": 1,
   "id": "efc08c0f",
   "metadata": {
    "vscode": {
     "languageId": "plaintext"
    }
   },
   "outputs": [],
   "source": [
    "import requests\n",
    "import time\n",
    "import json\n",
    "import threading\n",
    "import queue\n",
    "import random\n",
    "import datetime\n",
    "import os\n",
    "import urllib3\n",
    "\n",
    "from urllib.error import URLError, HTTPError\n",
    "from bs4 import BeautifulSoup\n",
    "from collections import defaultdict\n",
    "from pprint import pprint\n",
    "\n",
    "from config.assistant import *\n",
    "\n",
    "urllib3.disable_warnings(urllib3.exceptions.InsecureRequestWarning)\n",
    "#from config.site_config import *"
   ]
  },
  {
   "cell_type": "code",
   "execution_count": 2,
   "id": "6d8af324",
   "metadata": {},
   "outputs": [],
   "source": [
    "# searchType=search\n",
    "# searchword=컴퓨터비전         # 검색어\n",
    "# loc_mcd=101000,102000         # 지역, 101000(서울),102000(경기)\n",
    "# company_cd=0,1,2,3,4,5,6,7    # 채용제공구분 / 9(파견/대행), 10(헤드헌팅)\n",
    "# search_optional_item=y\n",
    "# search_done=y\n",
    "# panel_count=y\n",
    "# recruitPage=1                 # 현재 페이지뷰\n",
    "# recruitSort=relation          # 정렬방법\n",
    "# recruitPageCount=100          # 표시 개수\n",
    "# inner_com_type=\n",
    "# show_applied=                 # 지원한 공고 표시\n",
    "# quick_apply=                  # 빠른 입사지원\n",
    "# except_read=                  # 조회한 페이지 제외\n",
    "# ai_head_hunting=\n",
    "# mainSearch=n"
   ]
  },
  {
   "cell_type": "code",
   "execution_count": 6,
   "id": "07f7721a",
   "metadata": {},
   "outputs": [],
   "source": [
    "search_words = [\"컴퓨터비전\", \"OPENCV\"]\n",
    "page_view_items = 100\n",
    "company_cd='0,1,2,3,4,5,6,7'\n",
    "base_link = 'https://www.saramin.co.kr'\n",
    "job_group = {}\n",
    "item_count = 0"
   ]
  },
  {
   "cell_type": "code",
   "execution_count": 7,
   "id": "94a62c74",
   "metadata": {
    "scrolled": true
   },
   "outputs": [
    {
     "name": "stdout",
     "output_type": "stream",
     "text": [
      "Elapsed time is 63.420079946517944 seconds.\n",
      "Elapsed time is 13.11435317993164 seconds.\n"
     ]
    }
   ],
   "source": [
    "\n",
    "# 저장된 키워드 별 검색\n",
    "for search_word in search_words:\n",
    "    tic()\n",
    "    current_page = 1\n",
    "    \n",
    "    # 검색 결과 리스트 페이지 별 확인\n",
    "    search_loop = True\n",
    "    while(search_loop):\n",
    "        search_link = f'https://www.saramin.co.kr/zf_user/search/recruit'\\\n",
    "            + f'?search_area=main'\\\n",
    "            + f'&search_done=y'\\\n",
    "            + f'&search_optional_item=n'\\\n",
    "            + f'&searchType=search'\\\n",
    "            + f'&recruitSort=relation'\\\n",
    "            + f'&searchword={search_word}'\\\n",
    "            + f'&recruitPage={current_page}'\\\n",
    "            + f'&recruitPageCount={page_view_items}'\\\n",
    "            + f'&company_cd={company_cd}'\\\n",
    "            + f'&mainSearch=y'\n",
    "\n",
    "        response = requests.get(search_link, verify=False)\n",
    "        html = response.text\n",
    "        soup = BeautifulSoup(html, 'html.parser')\n",
    "\n",
    "        if len(soup.find_all('div', attrs={'class': 'info_no_result'})) == 1:\n",
    "            search_loop = False\n",
    "        else:\n",
    "            current_page += 1\n",
    "\n",
    "            page_items = len(soup.find_all('h2', attrs={'class': 'job_tit'}))\n",
    "\n",
    "            # 해당 페이지 리스트 (1 ~ 100)\n",
    "            for i in range(1, page_items+1):\n",
    "                elements = soup.select(f'div.content > div:nth-child({i})')[0]\n",
    "\n",
    "                # 채용공고명\n",
    "                str_title = elements.find('a', attrs={'class': 'data_layer'})['title']\n",
    "\n",
    "                # 회사명\n",
    "                str_company = elements.find('a', attrs={'class': 'track_event data_layer'}).string\n",
    "                str_company = str_company.replace(' ', '').replace('\\n', '').replace('(주)', '')\n",
    "\n",
    "                # 채용공고 링크\n",
    "                str_title_link = base_link + elements.find('a', attrs={'class': 'data_layer'})['href']\n",
    "\n",
    "                # 회사 링크\n",
    "                str_company_link = base_link + elements.find('a', attrs={'class': 'track_event data_layer'})['href']\n",
    "\n",
    "                # Dictionary에 저장\n",
    "                if str_company in job_group:    # 회사명 - 기존에 있으면\n",
    "                    for company in job_group[str_company]:\n",
    "                        if company['title'] == str_title:    # 채용공고명 - 기존에 있으면\n",
    "                            break\n",
    "                    else:\n",
    "                        job_group[str_company].append({'title': str_title, \\\n",
    "                                                       'title_link': str_title_link, \\\n",
    "                                                       'company_link': str_company_link \\\n",
    "                                                      })\n",
    "\n",
    "                else:    # 회사명 - 신규진입\n",
    "                    job_group[str_company] = []\n",
    "                    job_group[str_company].append({'title': str_title, \\\n",
    "                                                   'title_link': str_title_link, \\\n",
    "                                                   'company_link': str_company_link \\\n",
    "                                                  })\n",
    "\n",
    "                item_count += 1\n",
    "    toc()"
   ]
  },
  {
   "cell_type": "code",
   "execution_count": null,
   "id": "55893733",
   "metadata": {},
   "outputs": [],
   "source": []
  }
 ],
 "metadata": {
  "kernelspec": {
   "display_name": "hackerrank",
   "language": "python",
   "name": "hackerrank"
  },
  "language_info": {
   "codemirror_mode": {
    "name": "ipython",
    "version": 3
   },
   "file_extension": ".py",
   "mimetype": "text/x-python",
   "name": "python",
   "nbconvert_exporter": "python",
   "pygments_lexer": "ipython3",
   "version": "3.9.12"
  }
 },
 "nbformat": 4,
 "nbformat_minor": 5
}
