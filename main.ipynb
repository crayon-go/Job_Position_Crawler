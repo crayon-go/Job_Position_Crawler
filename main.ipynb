{
 "cells": [
  {
   "cell_type": "code",
   "execution_count": 1,
   "id": "efc08c0f",
   "metadata": {
    "vscode": {
     "languageId": "plaintext"
    }
   },
   "outputs": [],
   "source": [
    "import requests\n",
    "import time\n",
    "import json\n",
    "import selenium.webdriver.support.ui as ui\n",
    "from selenium.webdriver.common.keys import Keys\n",
    "import threading\n",
    "import queue\n",
    "import random\n",
    "import datetime\n",
    "import os\n",
    "\n",
    "from urllib.error import URLError, HTTPError\n",
    "from selenium import webdriver\n",
    "from selenium.webdriver.chrome.options import Options\n",
    "from selenium.webdriver.remote.webelement import WebElement\n",
    "from selenium.webdriver.common.keys import Keys\n",
    "from selenium.webdriver import ActionChains\n",
    "from pprint import pprint\n",
    "from selenium.webdriver.common.alert import Alert\n",
    "from bs4 import BeautifulSoup\n",
    "from collections import defaultdict\n",
    "from pprint import pprint\n",
    "#from config.site_config import *"
   ]
  },
  {
   "cell_type": "code",
   "execution_count": 2,
   "id": "7436d156",
   "metadata": {
    "vscode": {
     "languageId": "plaintext"
    }
   },
   "outputs": [
    {
     "name": "stderr",
     "output_type": "stream",
     "text": [
      "C:\\Users\\wnsdh\\AppData\\Local\\Temp\\ipykernel_23412\\1482476840.py:4: DeprecationWarning: executable_path has been deprecated, please pass in a Service object\n",
      "  driver = webdriver.Chrome(executable_path=DRIVER_PATH)\n"
     ]
    }
   ],
   "source": [
    "DRIVER_PATH = './config/chromedriver'\n",
    "CHROME_OPTIONS = Options()\n",
    "#driver.implicitly_wait(3)\n",
    "driver = webdriver.Chrome(executable_path=DRIVER_PATH)"
   ]
  },
  {
   "cell_type": "code",
   "execution_count": 3,
   "id": "6d8af324",
   "metadata": {},
   "outputs": [],
   "source": [
    "# searchType=search\n",
    "# searchword=컴퓨터비전         # 검색어\n",
    "# loc_mcd=101000,102000         # 지역, 101000(서울),102000(경기)\n",
    "# company_cd=0,1,2,3,4,5,6,7    # 채용제공구분 / 9(파견/대행), 10(헤드헌팅)\n",
    "# search_optional_item=y\n",
    "# search_done=y\n",
    "# panel_count=y\n",
    "# recruitPage=1                 # 현재 페이지뷰\n",
    "# recruitSort=relation          # 정렬방법\n",
    "# recruitPageCount=100          # 표시 개수\n",
    "# inner_com_type=\n",
    "# show_applied=                 # 지원한 공고 표시\n",
    "# quick_apply=                  # 빠른 입사지원\n",
    "# except_read=                  # 조회한 페이지 제외\n",
    "# ai_head_hunting=\n",
    "# mainSearch=n"
   ]
  },
  {
   "cell_type": "code",
   "execution_count": 3,
   "id": "024a0cf7",
   "metadata": {},
   "outputs": [],
   "source": [
    "search_word = \"컴퓨터비전\"\n",
    "recruit_page = 1\n",
    "recruit_page_count = 100\n",
    "company_cd='0,1,2,3,4,5,6,7'"
   ]
  },
  {
   "cell_type": "code",
   "execution_count": 4,
   "id": "e6ee6c9b",
   "metadata": {},
   "outputs": [
    {
     "data": {
      "text/plain": [
       "'https://www.saramin.co.kr/zf_user/search/recruit?search_area=main&search_done=y&search_optional_item=n&searchType=search&recruitSort=relation&searchword=컴퓨터비전&recruitPage=1&recruitPageCount=100&company_cd=0,1,2,3,4,5,6,7&mainSearch=y'"
      ]
     },
     "execution_count": 4,
     "metadata": {},
     "output_type": "execute_result"
    }
   ],
   "source": [
    "search_link = 'https://www.saramin.co.kr/zf_user/search/recruit\\\n",
    "?search_area=main\\\n",
    "&search_done=y\\\n",
    "&search_optional_item=n\\\n",
    "&searchType=search\\\n",
    "&recruitSort=relation\\\n",
    "&searchword={}\\\n",
    "&recruitPage={}\\\n",
    "&recruitPageCount={}\\\n",
    "&company_cd={}\\\n",
    "&mainSearch=y'.format(search_word, recruit_page, recruit_page_count, company_cd)\n",
    "search_link"
   ]
  },
  {
   "cell_type": "code",
   "execution_count": 5,
   "id": "f87de2e2",
   "metadata": {},
   "outputs": [],
   "source": [
    "driver.get(search_link)\n",
    "html = driver.page_source\n",
    "soup = BeautifulSoup(html, 'html.parser')"
   ]
  },
  {
   "cell_type": "code",
   "execution_count": 6,
   "id": "c84a8e75",
   "metadata": {},
   "outputs": [
    {
     "data": {
      "text/plain": [
       "'[주35H/재택/탄력] 컴퓨터비전, Embedded 개발자 (경력,병특)'"
      ]
     },
     "execution_count": 6,
     "metadata": {},
     "output_type": "execute_result"
    }
   ],
   "source": [
    "tmp_title = soup.select('div.content > div:nth-child(1) > div.area_job > h2 > a')\n",
    "job_title = tmp_title[0]['title']\n",
    "job_title"
   ]
  },
  {
   "cell_type": "code",
   "execution_count": 109,
   "id": "15a37090",
   "metadata": {},
   "outputs": [
    {
     "data": {
      "text/plain": [
       "'에프에스솔루션'"
      ]
     },
     "execution_count": 109,
     "metadata": {},
     "output_type": "execute_result"
    }
   ],
   "source": [
    "tmp_company = soup.select('div.content > div:nth-child(1) > div.area_corp > strong > a')\n",
    "tmp_company2 = tmp_company[0].string\n",
    "job_company = tmp_company2.replace(' ', '').replace('\\n', '').replace('(주)', '')\n",
    "job_company"
   ]
  },
  {
   "cell_type": "code",
   "execution_count": 8,
   "id": "2726cbfc",
   "metadata": {},
   "outputs": [
    {
     "name": "stdout",
     "output_type": "stream",
     "text": [
      "https://www.saramin.co.kr/zf_user/jobs/relay/view?view_type=search&rec_idx=43761855&location=ts&searchword=%EC%BB%B4%ED%93%A8%ED%84%B0%EB%B9%84%EC%A0%84&searchType=search&paid_fl=n&search_uuid=c12b7b6b-3d4c-4c1c-8f96-fbbc04c1c4b3\n",
      "https://www.saramin.co.kr/zf_user/company-info/view?csn=aGRYbWRuMHlxV21kMTVNVjNCYWkxZz09\n"
     ]
    }
   ],
   "source": [
    "base_link = 'https://www.saramin.co.kr'\n",
    "\n",
    "get_title_link = soup.select('div.content > div:nth-child(1) > div.area_job > h2 > a')\n",
    "get_title_link = get_title_link[0]['href']\n",
    "get_title_link = base_link + get_title_link\n",
    "print(get_title_link)\n",
    "\n",
    "get_company_link = soup.select('div.content > div:nth-child(1) > div.area_corp > strong > a')\n",
    "get_company_link = get_company_link[0]['href']\n",
    "get_company_link = base_link + get_company_link\n",
    "print(get_company_link)"
   ]
  },
  {
   "cell_type": "code",
   "execution_count": 151,
   "id": "3a9ac40f",
   "metadata": {},
   "outputs": [],
   "source": [
    "job_group = {}"
   ]
  },
  {
   "cell_type": "code",
   "execution_count": 203,
   "id": "c9c7dcc6",
   "metadata": {},
   "outputs": [],
   "source": [
    "job_company = \"회사_3\"\n",
    "job_title = \"제목_4\"\n",
    "title_link = '타이틀링크_1'\n",
    "company_link = '회사링크_1'"
   ]
  },
  {
   "cell_type": "code",
   "execution_count": 204,
   "id": "b948ca70",
   "metadata": {},
   "outputs": [
    {
     "name": "stdout",
     "output_type": "stream",
     "text": [
      "exist\n"
     ]
    }
   ],
   "source": [
    "if job_company in job_group:    # 기존\n",
    "    b_exist = False\n",
    "    for company in job_group[job_company]:\n",
    "        if company['title'] == job_title:\n",
    "            b_exist = True\n",
    "            print(\"exist\")\n",
    "            break\n",
    "    if b_exist == True:\n",
    "        pass\n",
    "    else:\n",
    "        print(\"additional entry\")\n",
    "        job_group[job_company].append({'title': job_title, \\\n",
    "                                       'title_link': title_link, \\\n",
    "                                       'company_link': company_link \\\n",
    "                                      })\n",
    "    \n",
    "else:                           # 신규진입\n",
    "    print(\"new entry\")\n",
    "    job_group[job_company] = []\n",
    "    job_group[job_company].append({'title': job_title, \\\n",
    "                                   'title_link': title_link, \\\n",
    "                                   'company_link': company_link \\\n",
    "                                  })\n"
   ]
  }
 ],
 "metadata": {
  "kernelspec": {
   "display_name": "hackerrank",
   "language": "python",
   "name": "hackerrank"
  },
  "language_info": {
   "codemirror_mode": {
    "name": "ipython",
    "version": 3
   },
   "file_extension": ".py",
   "mimetype": "text/x-python",
   "name": "python",
   "nbconvert_exporter": "python",
   "pygments_lexer": "ipython3",
   "version": "3.9.12"
  }
 },
 "nbformat": 4,
 "nbformat_minor": 5
}
